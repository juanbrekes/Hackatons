{
  "nbformat": 4,
  "nbformat_minor": 0,
  "metadata": {
    "colab": {
      "name": "20210821 - Machinehack Hackaton - Soccer Fever.ipynb",
      "provenance": [],
      "authorship_tag": "ABX9TyNdjlsW9fxvqjQcZ2+PeCUb",
      "include_colab_link": true
    },
    "kernelspec": {
      "name": "python3",
      "display_name": "Python 3"
    },
    "language_info": {
      "name": "python"
    }
  },
  "cells": [
    {
      "cell_type": "markdown",
      "metadata": {
        "id": "view-in-github",
        "colab_type": "text"
      },
      "source": [
        "<a href=\"https://colab.research.google.com/github/juanbrekes/Hackatons/blob/main/Hackatons/2%20-%20Soccer%20Fever%20-%2020210821/Soccer_Result_Estimator.ipynb\" target=\"_parent\"><img src=\"https://colab.research.google.com/assets/colab-badge.svg\" alt=\"Open In Colab\"/></a>"
      ]
    },
    {
      "cell_type": "markdown",
      "metadata": {
        "id": "CrABV3tOC5GY"
      },
      "source": [
        "# The  Soccer Fever\n",
        "\n",
        "Soccer aka Football is the most popular game in the world. It’s a religion of its own. If groups of 10 people can stop time and make people watch them in awe and reverence, it’s this beautiful game. Also, anybody can play soccer- all it needs is 4 poles, a ground and a ball. You can just get started with the play.\n",
        "\n",
        "In fact, Nelson Mandela very effectively used Football as the unifying factor when he was elected President of South Africa post the Apartheid era. The sport just cuts across all discriminating factors.\n",
        "\n",
        "We live in ambiguity and always need some information to just make a decision. Decisions are made based on possible outcomes. Win/ Loss/ Pass / Fail etc.\n",
        "\n",
        "The below problem statement is a classic study for decision-making and understanding the odds stacked against a particular situation.\n",
        "\n",
        "**About the Dataset**\n",
        "\n",
        "*   Train: 7443 rows x 21 columns (Target variable: 'Outcome')\n",
        "*   Test: 4008 rows x 20 columns\n",
        "*   Evaluation Metric: Log Loss\n",
        "\n",
        "The data is part of one of MachineHack's Hackathons and can be obtained from [this link](https://machinehack.com/hackathons/soccer_fever_weekend_hackathon_edition_2_the_last_hacker_standing/data)"
      ]
    },
    {
      "cell_type": "markdown",
      "metadata": {
        "id": "UHp3oz1jEMBI"
      },
      "source": [
        "## Step 1: Load the Data and perform EDA"
      ]
    },
    {
      "cell_type": "code",
      "metadata": {
        "id": "7dSb39lBEk_w"
      },
      "source": [
        "import pandas as pd\n",
        "import numpy as np\n",
        "import matplotlib.pyplot as plt\n",
        "import seaborn as sns"
      ],
      "execution_count": null,
      "outputs": []
    },
    {
      "cell_type": "code",
      "metadata": {
        "colab": {
          "base_uri": "https://localhost:8080/"
        },
        "id": "YJ5vZznsESV7",
        "outputId": "14c99625-3870-4c12-e4f7-d9a2fc276956"
      },
      "source": [
        "from google.colab import drive \n",
        "drive.mount('/content/gdrive')"
      ],
      "execution_count": null,
      "outputs": [
        {
          "output_type": "stream",
          "text": [
            "Drive already mounted at /content/gdrive; to attempt to forcibly remount, call drive.mount(\"/content/gdrive\", force_remount=True).\n"
          ],
          "name": "stdout"
        }
      ]
    },
    {
      "cell_type": "code",
      "metadata": {
        "id": "XYSr4R7CEX9p"
      },
      "source": [
        "train = pd.read_csv('/content/gdrive/MyDrive/Machine Learning Projects/Machinehack Hackatons/2 - Soccer Fever - 20210821/train.csv')\n",
        "test = pd.read_csv('/content/gdrive/MyDrive/Machine Learning Projects/Machinehack Hackatons/2 - Soccer Fever - 20210821/test.csv')"
      ],
      "execution_count": null,
      "outputs": []
    },
    {
      "cell_type": "markdown",
      "metadata": {
        "id": "r2P1T0ZeFpO4"
      },
      "source": [
        "Some metadata and info about the variables of the dataset can be obteined from [this link](https://api-docs.datarobot.com/docs/soccer-match-prediction)"
      ]
    },
    {
      "cell_type": "code",
      "metadata": {
        "colab": {
          "base_uri": "https://localhost:8080/",
          "height": 394
        },
        "id": "MmN0b9keFPOB",
        "outputId": "91e8df4b-eea3-404f-b4b6-c5085e12aec2"
      },
      "source": [
        "train.head()"
      ],
      "execution_count": null,
      "outputs": [
        {
          "output_type": "execute_result",
          "data": {
            "text/html": [
              "<div>\n",
              "<style scoped>\n",
              "    .dataframe tbody tr th:only-of-type {\n",
              "        vertical-align: middle;\n",
              "    }\n",
              "\n",
              "    .dataframe tbody tr th {\n",
              "        vertical-align: top;\n",
              "    }\n",
              "\n",
              "    .dataframe thead th {\n",
              "        text-align: right;\n",
              "    }\n",
              "</style>\n",
              "<table border=\"1\" class=\"dataframe\">\n",
              "  <thead>\n",
              "    <tr style=\"text-align: right;\">\n",
              "      <th></th>\n",
              "      <th>season</th>\n",
              "      <th>date</th>\n",
              "      <th>league_id</th>\n",
              "      <th>league</th>\n",
              "      <th>Team 1</th>\n",
              "      <th>Team2</th>\n",
              "      <th>SPI1</th>\n",
              "      <th>SPI2</th>\n",
              "      <th>proj_score1</th>\n",
              "      <th>proj_score2</th>\n",
              "      <th>importance1</th>\n",
              "      <th>importance2</th>\n",
              "      <th>score1</th>\n",
              "      <th>score2</th>\n",
              "      <th>xg1</th>\n",
              "      <th>xg2</th>\n",
              "      <th>nsxg1</th>\n",
              "      <th>nsxg2</th>\n",
              "      <th>adj_score1</th>\n",
              "      <th>adj_score2</th>\n",
              "      <th>Outcome</th>\n",
              "    </tr>\n",
              "  </thead>\n",
              "  <tbody>\n",
              "    <tr>\n",
              "      <th>0</th>\n",
              "      <td>2019</td>\n",
              "      <td>01/03/19</td>\n",
              "      <td>1979</td>\n",
              "      <td>Chinese Super League</td>\n",
              "      <td>Shandong Luneng</td>\n",
              "      <td>Guizhou Renhe</td>\n",
              "      <td>48.22</td>\n",
              "      <td>37.83</td>\n",
              "      <td>1.75</td>\n",
              "      <td>0.84</td>\n",
              "      <td>45.9</td>\n",
              "      <td>22.1</td>\n",
              "      <td>1.0</td>\n",
              "      <td>0.0</td>\n",
              "      <td>1.39</td>\n",
              "      <td>0.26</td>\n",
              "      <td>2.05</td>\n",
              "      <td>0.54</td>\n",
              "      <td>1.05</td>\n",
              "      <td>0.00</td>\n",
              "      <td>1</td>\n",
              "    </tr>\n",
              "    <tr>\n",
              "      <th>1</th>\n",
              "      <td>2019</td>\n",
              "      <td>01/03/19</td>\n",
              "      <td>1979</td>\n",
              "      <td>Chinese Super League</td>\n",
              "      <td>Shanghai Greenland</td>\n",
              "      <td>Shanghai SIPG</td>\n",
              "      <td>39.81</td>\n",
              "      <td>60.08</td>\n",
              "      <td>1.22</td>\n",
              "      <td>1.89</td>\n",
              "      <td>25.6</td>\n",
              "      <td>63.4</td>\n",
              "      <td>0.0</td>\n",
              "      <td>4.0</td>\n",
              "      <td>0.57</td>\n",
              "      <td>2.76</td>\n",
              "      <td>0.80</td>\n",
              "      <td>1.50</td>\n",
              "      <td>0.00</td>\n",
              "      <td>3.26</td>\n",
              "      <td>0</td>\n",
              "    </tr>\n",
              "    <tr>\n",
              "      <th>2</th>\n",
              "      <td>2019</td>\n",
              "      <td>01/03/19</td>\n",
              "      <td>1979</td>\n",
              "      <td>Chinese Super League</td>\n",
              "      <td>Guangzhou Evergrande</td>\n",
              "      <td>Tianjin Quanujian</td>\n",
              "      <td>65.59</td>\n",
              "      <td>39.99</td>\n",
              "      <td>2.58</td>\n",
              "      <td>0.62</td>\n",
              "      <td>77.1</td>\n",
              "      <td>28.8</td>\n",
              "      <td>3.0</td>\n",
              "      <td>0.0</td>\n",
              "      <td>0.49</td>\n",
              "      <td>0.45</td>\n",
              "      <td>1.05</td>\n",
              "      <td>0.75</td>\n",
              "      <td>3.15</td>\n",
              "      <td>0.00</td>\n",
              "      <td>1</td>\n",
              "    </tr>\n",
              "    <tr>\n",
              "      <th>3</th>\n",
              "      <td>2019</td>\n",
              "      <td>01/03/19</td>\n",
              "      <td>1979</td>\n",
              "      <td>Chinese Super League</td>\n",
              "      <td>Wuhan Zall</td>\n",
              "      <td>Beijing Guoan</td>\n",
              "      <td>32.25</td>\n",
              "      <td>54.82</td>\n",
              "      <td>1.10</td>\n",
              "      <td>1.79</td>\n",
              "      <td>35.8</td>\n",
              "      <td>58.9</td>\n",
              "      <td>0.0</td>\n",
              "      <td>1.0</td>\n",
              "      <td>1.12</td>\n",
              "      <td>0.97</td>\n",
              "      <td>1.51</td>\n",
              "      <td>0.94</td>\n",
              "      <td>0.00</td>\n",
              "      <td>1.05</td>\n",
              "      <td>0</td>\n",
              "    </tr>\n",
              "    <tr>\n",
              "      <th>4</th>\n",
              "      <td>2019</td>\n",
              "      <td>01/03/19</td>\n",
              "      <td>1979</td>\n",
              "      <td>Chinese Super League</td>\n",
              "      <td>Chongqing Lifan</td>\n",
              "      <td>Guangzhou RF</td>\n",
              "      <td>38.24</td>\n",
              "      <td>40.45</td>\n",
              "      <td>1.57</td>\n",
              "      <td>1.24</td>\n",
              "      <td>26.2</td>\n",
              "      <td>21.3</td>\n",
              "      <td>2.0</td>\n",
              "      <td>2.0</td>\n",
              "      <td>2.77</td>\n",
              "      <td>3.17</td>\n",
              "      <td>1.05</td>\n",
              "      <td>2.08</td>\n",
              "      <td>2.10</td>\n",
              "      <td>2.10</td>\n",
              "      <td>1</td>\n",
              "    </tr>\n",
              "  </tbody>\n",
              "</table>\n",
              "</div>"
            ],
            "text/plain": [
              "   season      date  league_id  ... adj_score1 adj_score2 Outcome\n",
              "0    2019  01/03/19       1979  ...       1.05       0.00       1\n",
              "1    2019  01/03/19       1979  ...       0.00       3.26       0\n",
              "2    2019  01/03/19       1979  ...       3.15       0.00       1\n",
              "3    2019  01/03/19       1979  ...       0.00       1.05       0\n",
              "4    2019  01/03/19       1979  ...       2.10       2.10       1\n",
              "\n",
              "[5 rows x 21 columns]"
            ]
          },
          "metadata": {},
          "execution_count": 206
        }
      ]
    },
    {
      "cell_type": "code",
      "metadata": {
        "colab": {
          "base_uri": "https://localhost:8080/",
          "height": 343
        },
        "id": "fmCpRgb_FYSD",
        "outputId": "5e4114d4-f40d-4c53-aa12-71c2a34ceae2"
      },
      "source": [
        "test.head()"
      ],
      "execution_count": null,
      "outputs": [
        {
          "output_type": "execute_result",
          "data": {
            "text/html": [
              "<div>\n",
              "<style scoped>\n",
              "    .dataframe tbody tr th:only-of-type {\n",
              "        vertical-align: middle;\n",
              "    }\n",
              "\n",
              "    .dataframe tbody tr th {\n",
              "        vertical-align: top;\n",
              "    }\n",
              "\n",
              "    .dataframe thead th {\n",
              "        text-align: right;\n",
              "    }\n",
              "</style>\n",
              "<table border=\"1\" class=\"dataframe\">\n",
              "  <thead>\n",
              "    <tr style=\"text-align: right;\">\n",
              "      <th></th>\n",
              "      <th>season</th>\n",
              "      <th>date</th>\n",
              "      <th>league_id</th>\n",
              "      <th>league</th>\n",
              "      <th>Team 1</th>\n",
              "      <th>Team2</th>\n",
              "      <th>SPI1</th>\n",
              "      <th>SPI2</th>\n",
              "      <th>proj_score1</th>\n",
              "      <th>proj_score2</th>\n",
              "      <th>importance1</th>\n",
              "      <th>importance2</th>\n",
              "      <th>score1</th>\n",
              "      <th>score2</th>\n",
              "      <th>xg1</th>\n",
              "      <th>xg2</th>\n",
              "      <th>nsxg1</th>\n",
              "      <th>nsxg2</th>\n",
              "      <th>adj_score1</th>\n",
              "      <th>adj_score2</th>\n",
              "    </tr>\n",
              "  </thead>\n",
              "  <tbody>\n",
              "    <tr>\n",
              "      <th>0</th>\n",
              "      <td>2021</td>\n",
              "      <td>14/12/21</td>\n",
              "      <td>2411</td>\n",
              "      <td>BPL</td>\n",
              "      <td>Arsenal</td>\n",
              "      <td>West Ham United</td>\n",
              "      <td>79.65</td>\n",
              "      <td>74.06</td>\n",
              "      <td>1.67</td>\n",
              "      <td>1.19</td>\n",
              "      <td>NaN</td>\n",
              "      <td>NaN</td>\n",
              "      <td>NaN</td>\n",
              "      <td>NaN</td>\n",
              "      <td>NaN</td>\n",
              "      <td>NaN</td>\n",
              "      <td>NaN</td>\n",
              "      <td>NaN</td>\n",
              "      <td>NaN</td>\n",
              "      <td>NaN</td>\n",
              "    </tr>\n",
              "    <tr>\n",
              "      <th>1</th>\n",
              "      <td>2021</td>\n",
              "      <td>14/12/21</td>\n",
              "      <td>2411</td>\n",
              "      <td>BPL</td>\n",
              "      <td>Brighton and Hove Albion</td>\n",
              "      <td>Wolverhampton</td>\n",
              "      <td>74.19</td>\n",
              "      <td>71.14</td>\n",
              "      <td>1.35</td>\n",
              "      <td>0.98</td>\n",
              "      <td>NaN</td>\n",
              "      <td>NaN</td>\n",
              "      <td>NaN</td>\n",
              "      <td>NaN</td>\n",
              "      <td>NaN</td>\n",
              "      <td>NaN</td>\n",
              "      <td>NaN</td>\n",
              "      <td>NaN</td>\n",
              "      <td>NaN</td>\n",
              "      <td>NaN</td>\n",
              "    </tr>\n",
              "    <tr>\n",
              "      <th>2</th>\n",
              "      <td>2021</td>\n",
              "      <td>14/12/21</td>\n",
              "      <td>2411</td>\n",
              "      <td>BPL</td>\n",
              "      <td>Norwich City</td>\n",
              "      <td>Aston Villa</td>\n",
              "      <td>60.67</td>\n",
              "      <td>71.45</td>\n",
              "      <td>1.18</td>\n",
              "      <td>1.49</td>\n",
              "      <td>NaN</td>\n",
              "      <td>NaN</td>\n",
              "      <td>NaN</td>\n",
              "      <td>NaN</td>\n",
              "      <td>NaN</td>\n",
              "      <td>NaN</td>\n",
              "      <td>NaN</td>\n",
              "      <td>NaN</td>\n",
              "      <td>NaN</td>\n",
              "      <td>NaN</td>\n",
              "    </tr>\n",
              "    <tr>\n",
              "      <th>3</th>\n",
              "      <td>2021</td>\n",
              "      <td>14/12/21</td>\n",
              "      <td>2411</td>\n",
              "      <td>BPL</td>\n",
              "      <td>Leicester City</td>\n",
              "      <td>Tottenham Hotspur</td>\n",
              "      <td>76.88</td>\n",
              "      <td>79.06</td>\n",
              "      <td>1.52</td>\n",
              "      <td>1.44</td>\n",
              "      <td>NaN</td>\n",
              "      <td>NaN</td>\n",
              "      <td>NaN</td>\n",
              "      <td>NaN</td>\n",
              "      <td>NaN</td>\n",
              "      <td>NaN</td>\n",
              "      <td>NaN</td>\n",
              "      <td>NaN</td>\n",
              "      <td>NaN</td>\n",
              "      <td>NaN</td>\n",
              "    </tr>\n",
              "    <tr>\n",
              "      <th>4</th>\n",
              "      <td>2021</td>\n",
              "      <td>14/12/21</td>\n",
              "      <td>2411</td>\n",
              "      <td>BPL</td>\n",
              "      <td>Brentford</td>\n",
              "      <td>Manchester United</td>\n",
              "      <td>63.53</td>\n",
              "      <td>85.58</td>\n",
              "      <td>0.95</td>\n",
              "      <td>1.92</td>\n",
              "      <td>NaN</td>\n",
              "      <td>NaN</td>\n",
              "      <td>NaN</td>\n",
              "      <td>NaN</td>\n",
              "      <td>NaN</td>\n",
              "      <td>NaN</td>\n",
              "      <td>NaN</td>\n",
              "      <td>NaN</td>\n",
              "      <td>NaN</td>\n",
              "      <td>NaN</td>\n",
              "    </tr>\n",
              "  </tbody>\n",
              "</table>\n",
              "</div>"
            ],
            "text/plain": [
              "   season      date  league_id league  ... nsxg1 nsxg2  adj_score1  adj_score2\n",
              "0    2021  14/12/21       2411    BPL  ...   NaN   NaN         NaN         NaN\n",
              "1    2021  14/12/21       2411    BPL  ...   NaN   NaN         NaN         NaN\n",
              "2    2021  14/12/21       2411    BPL  ...   NaN   NaN         NaN         NaN\n",
              "3    2021  14/12/21       2411    BPL  ...   NaN   NaN         NaN         NaN\n",
              "4    2021  14/12/21       2411    BPL  ...   NaN   NaN         NaN         NaN\n",
              "\n",
              "[5 rows x 20 columns]"
            ]
          },
          "metadata": {},
          "execution_count": 207
        }
      ]
    },
    {
      "cell_type": "markdown",
      "metadata": {
        "id": "xva600rRGuUc"
      },
      "source": [
        "It seems that there are a lot of NaN values in some columns of the test data..."
      ]
    },
    {
      "cell_type": "code",
      "metadata": {
        "colab": {
          "base_uri": "https://localhost:8080/"
        },
        "id": "v9E1IDaYG0pv",
        "outputId": "76407104-8092-4d0c-82ca-304c2e9476d3"
      },
      "source": [
        "nan_count_train = train.isnull().sum()\n",
        "nan_count_test = test.isnull().sum()\n",
        "\n",
        "print('NaN in Train dataset: ')\n",
        "print(nan_count_train)\n",
        "print('\\nNan in Test dataset: ')\n",
        "print(nan_count_test)"
      ],
      "execution_count": null,
      "outputs": [
        {
          "output_type": "stream",
          "text": [
            "NaN in Train dataset: \n",
            "season            0\n",
            "date              0\n",
            "league_id         0\n",
            "league            0\n",
            "Team 1            0\n",
            "Team2             0\n",
            "SPI1              0\n",
            "SPI2              0\n",
            "proj_score1       0\n",
            "proj_score2       0\n",
            "importance1    4916\n",
            "importance2    4916\n",
            "score1         4800\n",
            "score2         4800\n",
            "xg1            5728\n",
            "xg2            5728\n",
            "nsxg1          5728\n",
            "nsxg2          5728\n",
            "adj_score1     5728\n",
            "adj_score2     5728\n",
            "Outcome           0\n",
            "dtype: int64\n",
            "\n",
            "Nan in Test dataset: \n",
            "season            0\n",
            "date              0\n",
            "league_id         0\n",
            "league            0\n",
            "Team 1            0\n",
            "Team2             0\n",
            "SPI1              0\n",
            "SPI2              0\n",
            "proj_score1       0\n",
            "proj_score2       0\n",
            "importance1    4008\n",
            "importance2    4008\n",
            "score1         4008\n",
            "score2         4008\n",
            "xg1            4008\n",
            "xg2            4008\n",
            "nsxg1          4008\n",
            "nsxg2          4008\n",
            "adj_score1     4008\n",
            "adj_score2     4008\n",
            "dtype: int64\n"
          ],
          "name": "stdout"
        }
      ]
    },
    {
      "cell_type": "code",
      "metadata": {
        "colab": {
          "base_uri": "https://localhost:8080/"
        },
        "id": "81r6o-AIHrvB",
        "outputId": "b8c899a3-47d8-498a-d674-424afd642ff3"
      },
      "source": [
        "test_columns = test.columns\n",
        "\n",
        "nan_columns = [col for col in test_columns if test[col].isnull().sum() > 0]\n",
        "nan_columns"
      ],
      "execution_count": null,
      "outputs": [
        {
          "output_type": "execute_result",
          "data": {
            "text/plain": [
              "['importance1',\n",
              " 'importance2',\n",
              " 'score1',\n",
              " 'score2',\n",
              " 'xg1',\n",
              " 'xg2',\n",
              " 'nsxg1',\n",
              " 'nsxg2',\n",
              " 'adj_score1',\n",
              " 'adj_score2']"
            ]
          },
          "metadata": {},
          "execution_count": 209
        }
      ]
    },
    {
      "cell_type": "markdown",
      "metadata": {
        "id": "VgMgFTnTI_Af"
      },
      "source": [
        "The same columns have missing values in both train and test dataset, so I'll drop them in both df, and also drop the columns 'date' since I don't think it's relevant in this case, and 'league_id', since it gives the same information as 'league'"
      ]
    },
    {
      "cell_type": "code",
      "metadata": {
        "id": "OfQOcRPkJGBa"
      },
      "source": [
        "train_clean = train.drop(nan_columns, axis = 1)\n",
        "test_clean = test.drop(nan_columns, axis = 1)\n",
        "\n",
        "train_clean = train_clean.drop(['date', 'league_id'], axis = 1)\n",
        "test_clean = test_clean.drop(['date', 'league_id'], axis = 1)"
      ],
      "execution_count": null,
      "outputs": []
    },
    {
      "cell_type": "code",
      "metadata": {
        "colab": {
          "base_uri": "https://localhost:8080/",
          "height": 487
        },
        "id": "6Xy8MF6-SDpd",
        "outputId": "1067ebb5-28f1-469f-fee6-401b385bcbde"
      },
      "source": [
        "train_clean"
      ],
      "execution_count": null,
      "outputs": [
        {
          "output_type": "execute_result",
          "data": {
            "text/html": [
              "<div>\n",
              "<style scoped>\n",
              "    .dataframe tbody tr th:only-of-type {\n",
              "        vertical-align: middle;\n",
              "    }\n",
              "\n",
              "    .dataframe tbody tr th {\n",
              "        vertical-align: top;\n",
              "    }\n",
              "\n",
              "    .dataframe thead th {\n",
              "        text-align: right;\n",
              "    }\n",
              "</style>\n",
              "<table border=\"1\" class=\"dataframe\">\n",
              "  <thead>\n",
              "    <tr style=\"text-align: right;\">\n",
              "      <th></th>\n",
              "      <th>season</th>\n",
              "      <th>league</th>\n",
              "      <th>Team 1</th>\n",
              "      <th>Team2</th>\n",
              "      <th>SPI1</th>\n",
              "      <th>SPI2</th>\n",
              "      <th>proj_score1</th>\n",
              "      <th>proj_score2</th>\n",
              "      <th>Outcome</th>\n",
              "    </tr>\n",
              "  </thead>\n",
              "  <tbody>\n",
              "    <tr>\n",
              "      <th>0</th>\n",
              "      <td>2019</td>\n",
              "      <td>Chinese Super League</td>\n",
              "      <td>Shandong Luneng</td>\n",
              "      <td>Guizhou Renhe</td>\n",
              "      <td>48.22</td>\n",
              "      <td>37.83</td>\n",
              "      <td>1.75</td>\n",
              "      <td>0.84</td>\n",
              "      <td>1</td>\n",
              "    </tr>\n",
              "    <tr>\n",
              "      <th>1</th>\n",
              "      <td>2019</td>\n",
              "      <td>Chinese Super League</td>\n",
              "      <td>Shanghai Greenland</td>\n",
              "      <td>Shanghai SIPG</td>\n",
              "      <td>39.81</td>\n",
              "      <td>60.08</td>\n",
              "      <td>1.22</td>\n",
              "      <td>1.89</td>\n",
              "      <td>0</td>\n",
              "    </tr>\n",
              "    <tr>\n",
              "      <th>2</th>\n",
              "      <td>2019</td>\n",
              "      <td>Chinese Super League</td>\n",
              "      <td>Guangzhou Evergrande</td>\n",
              "      <td>Tianjin Quanujian</td>\n",
              "      <td>65.59</td>\n",
              "      <td>39.99</td>\n",
              "      <td>2.58</td>\n",
              "      <td>0.62</td>\n",
              "      <td>1</td>\n",
              "    </tr>\n",
              "    <tr>\n",
              "      <th>3</th>\n",
              "      <td>2019</td>\n",
              "      <td>Chinese Super League</td>\n",
              "      <td>Wuhan Zall</td>\n",
              "      <td>Beijing Guoan</td>\n",
              "      <td>32.25</td>\n",
              "      <td>54.82</td>\n",
              "      <td>1.10</td>\n",
              "      <td>1.79</td>\n",
              "      <td>0</td>\n",
              "    </tr>\n",
              "    <tr>\n",
              "      <th>4</th>\n",
              "      <td>2019</td>\n",
              "      <td>Chinese Super League</td>\n",
              "      <td>Chongqing Lifan</td>\n",
              "      <td>Guangzhou RF</td>\n",
              "      <td>38.24</td>\n",
              "      <td>40.45</td>\n",
              "      <td>1.57</td>\n",
              "      <td>1.24</td>\n",
              "      <td>1</td>\n",
              "    </tr>\n",
              "    <tr>\n",
              "      <th>...</th>\n",
              "      <td>...</td>\n",
              "      <td>...</td>\n",
              "      <td>...</td>\n",
              "      <td>...</td>\n",
              "      <td>...</td>\n",
              "      <td>...</td>\n",
              "      <td>...</td>\n",
              "      <td>...</td>\n",
              "      <td>...</td>\n",
              "    </tr>\n",
              "    <tr>\n",
              "      <th>7438</th>\n",
              "      <td>2021</td>\n",
              "      <td>German 2. Bundesliga</td>\n",
              "      <td>Karlsruher SC</td>\n",
              "      <td>1. FC Heidenheim 1846</td>\n",
              "      <td>34.05</td>\n",
              "      <td>33.76</td>\n",
              "      <td>1.39</td>\n",
              "      <td>1.19</td>\n",
              "      <td>1</td>\n",
              "    </tr>\n",
              "    <tr>\n",
              "      <th>7439</th>\n",
              "      <td>2021</td>\n",
              "      <td>German 2. Bundesliga</td>\n",
              "      <td>SC Paderborn</td>\n",
              "      <td>SV Darmstadt 98</td>\n",
              "      <td>36.73</td>\n",
              "      <td>36.11</td>\n",
              "      <td>1.67</td>\n",
              "      <td>1.44</td>\n",
              "      <td>1</td>\n",
              "    </tr>\n",
              "    <tr>\n",
              "      <th>7440</th>\n",
              "      <td>2021</td>\n",
              "      <td>South African ABSA Premier League</td>\n",
              "      <td>Moroka Swallows</td>\n",
              "      <td>Orlando Pirates</td>\n",
              "      <td>12.97</td>\n",
              "      <td>23.59</td>\n",
              "      <td>1.05</td>\n",
              "      <td>1.50</td>\n",
              "      <td>0</td>\n",
              "    </tr>\n",
              "    <tr>\n",
              "      <th>7441</th>\n",
              "      <td>2021</td>\n",
              "      <td>South African ABSA Premier League</td>\n",
              "      <td>Tshakhuma Tsha Madzivhandila</td>\n",
              "      <td>Black Aces</td>\n",
              "      <td>11.76</td>\n",
              "      <td>18.07</td>\n",
              "      <td>1.22</td>\n",
              "      <td>1.46</td>\n",
              "      <td>0</td>\n",
              "    </tr>\n",
              "    <tr>\n",
              "      <th>7442</th>\n",
              "      <td>2021</td>\n",
              "      <td>South African ABSA Premier League</td>\n",
              "      <td>Mamelodi Sundowns</td>\n",
              "      <td>Baroka FC</td>\n",
              "      <td>25.89</td>\n",
              "      <td>10.75</td>\n",
              "      <td>1.41</td>\n",
              "      <td>0.59</td>\n",
              "      <td>1</td>\n",
              "    </tr>\n",
              "  </tbody>\n",
              "</table>\n",
              "<p>7443 rows × 9 columns</p>\n",
              "</div>"
            ],
            "text/plain": [
              "      season                             league  ... proj_score2 Outcome\n",
              "0       2019               Chinese Super League  ...        0.84       1\n",
              "1       2019               Chinese Super League  ...        1.89       0\n",
              "2       2019               Chinese Super League  ...        0.62       1\n",
              "3       2019               Chinese Super League  ...        1.79       0\n",
              "4       2019               Chinese Super League  ...        1.24       1\n",
              "...      ...                                ...  ...         ...     ...\n",
              "7438    2021               German 2. Bundesliga  ...        1.19       1\n",
              "7439    2021               German 2. Bundesliga  ...        1.44       1\n",
              "7440    2021  South African ABSA Premier League  ...        1.50       0\n",
              "7441    2021  South African ABSA Premier League  ...        1.46       0\n",
              "7442    2021  South African ABSA Premier League  ...        0.59       1\n",
              "\n",
              "[7443 rows x 9 columns]"
            ]
          },
          "metadata": {},
          "execution_count": 211
        }
      ]
    },
    {
      "cell_type": "code",
      "metadata": {
        "colab": {
          "base_uri": "https://localhost:8080/"
        },
        "id": "h9Zo6DuVMxOE",
        "outputId": "ac31cb8c-bac7-483a-8e45-87d4e73169fd"
      },
      "source": [
        "cat_cols = train_clean.select_dtypes(include = 'object')\n",
        "cat_cols = cat_cols.columns\n",
        "cat_cols"
      ],
      "execution_count": null,
      "outputs": [
        {
          "output_type": "execute_result",
          "data": {
            "text/plain": [
              "Index(['league', 'Team 1', 'Team2'], dtype='object')"
            ]
          },
          "metadata": {},
          "execution_count": 212
        }
      ]
    },
    {
      "cell_type": "code",
      "metadata": {
        "colab": {
          "base_uri": "https://localhost:8080/"
        },
        "id": "9GF609iqP1Dm",
        "outputId": "a2ceaba1-7813-44e2-9fd9-82423cd968f0"
      },
      "source": [
        "def unique_values(cols):\n",
        "  for col in cols:\n",
        "    print(\"N° of unique values on column \", col, ':')\n",
        "    print(len(train_clean[col].unique()))\n",
        "\n",
        "unique_values(cat_cols)"
      ],
      "execution_count": null,
      "outputs": [
        {
          "output_type": "stream",
          "text": [
            "N° of unique values on column  league :\n",
            "39\n",
            "N° of unique values on column  Team 1 :\n",
            "657\n",
            "N° of unique values on column  Team2 :\n",
            "657\n"
          ],
          "name": "stdout"
        }
      ]
    },
    {
      "cell_type": "markdown",
      "metadata": {
        "id": "VtFBYSe4Tkeo"
      },
      "source": [
        "I think 'Team 1' and 'Team2' don't give me any aditional information, because the most important factor here is 'SPI1' and 'SPI2'. I'll try only usin this variables, and 'league' for the prediction."
      ]
    },
    {
      "cell_type": "code",
      "metadata": {
        "id": "06SvW-5ST6Tj"
      },
      "source": [
        "train_clean = train_clean.drop(['Team 1', 'Team2', 'league'], axis = 1)\n",
        "test_clean = test_clean.drop(['Team 1', 'Team2', 'league'], axis = 1)"
      ],
      "execution_count": null,
      "outputs": []
    },
    {
      "cell_type": "code",
      "metadata": {
        "colab": {
          "base_uri": "https://localhost:8080/",
          "height": 204
        },
        "id": "OfoEV5XPUOXg",
        "outputId": "2a282bbc-2e9b-4340-c46c-d90ae40dadc7"
      },
      "source": [
        "train_clean.head()"
      ],
      "execution_count": null,
      "outputs": [
        {
          "output_type": "execute_result",
          "data": {
            "text/html": [
              "<div>\n",
              "<style scoped>\n",
              "    .dataframe tbody tr th:only-of-type {\n",
              "        vertical-align: middle;\n",
              "    }\n",
              "\n",
              "    .dataframe tbody tr th {\n",
              "        vertical-align: top;\n",
              "    }\n",
              "\n",
              "    .dataframe thead th {\n",
              "        text-align: right;\n",
              "    }\n",
              "</style>\n",
              "<table border=\"1\" class=\"dataframe\">\n",
              "  <thead>\n",
              "    <tr style=\"text-align: right;\">\n",
              "      <th></th>\n",
              "      <th>season</th>\n",
              "      <th>SPI1</th>\n",
              "      <th>SPI2</th>\n",
              "      <th>proj_score1</th>\n",
              "      <th>proj_score2</th>\n",
              "      <th>Outcome</th>\n",
              "    </tr>\n",
              "  </thead>\n",
              "  <tbody>\n",
              "    <tr>\n",
              "      <th>0</th>\n",
              "      <td>2019</td>\n",
              "      <td>48.22</td>\n",
              "      <td>37.83</td>\n",
              "      <td>1.75</td>\n",
              "      <td>0.84</td>\n",
              "      <td>1</td>\n",
              "    </tr>\n",
              "    <tr>\n",
              "      <th>1</th>\n",
              "      <td>2019</td>\n",
              "      <td>39.81</td>\n",
              "      <td>60.08</td>\n",
              "      <td>1.22</td>\n",
              "      <td>1.89</td>\n",
              "      <td>0</td>\n",
              "    </tr>\n",
              "    <tr>\n",
              "      <th>2</th>\n",
              "      <td>2019</td>\n",
              "      <td>65.59</td>\n",
              "      <td>39.99</td>\n",
              "      <td>2.58</td>\n",
              "      <td>0.62</td>\n",
              "      <td>1</td>\n",
              "    </tr>\n",
              "    <tr>\n",
              "      <th>3</th>\n",
              "      <td>2019</td>\n",
              "      <td>32.25</td>\n",
              "      <td>54.82</td>\n",
              "      <td>1.10</td>\n",
              "      <td>1.79</td>\n",
              "      <td>0</td>\n",
              "    </tr>\n",
              "    <tr>\n",
              "      <th>4</th>\n",
              "      <td>2019</td>\n",
              "      <td>38.24</td>\n",
              "      <td>40.45</td>\n",
              "      <td>1.57</td>\n",
              "      <td>1.24</td>\n",
              "      <td>1</td>\n",
              "    </tr>\n",
              "  </tbody>\n",
              "</table>\n",
              "</div>"
            ],
            "text/plain": [
              "   season   SPI1   SPI2  proj_score1  proj_score2  Outcome\n",
              "0    2019  48.22  37.83         1.75         0.84        1\n",
              "1    2019  39.81  60.08         1.22         1.89        0\n",
              "2    2019  65.59  39.99         2.58         0.62        1\n",
              "3    2019  32.25  54.82         1.10         1.79        0\n",
              "4    2019  38.24  40.45         1.57         1.24        1"
            ]
          },
          "metadata": {},
          "execution_count": 215
        }
      ]
    },
    {
      "cell_type": "markdown",
      "metadata": {
        "id": "lgI82KCqWI5Q"
      },
      "source": [
        "## Step 2: Create a model\n",
        "\n",
        "This is a binary classification problem. I'll try with XGBoost, desicion tree and logistic regression"
      ]
    },
    {
      "cell_type": "code",
      "metadata": {
        "id": "LQmkO98iWuez"
      },
      "source": [
        "from sklearn.model_selection import train_test_split\n",
        "from sklearn.preprocessing import StandardScaler\n",
        "from sklearn.metrics import confusion_matrix\n",
        "from sklearn.metrics import log_loss"
      ],
      "execution_count": null,
      "outputs": []
    },
    {
      "cell_type": "code",
      "metadata": {
        "id": "Z0KI76xcW_HZ"
      },
      "source": [
        "X = train_clean.drop(['Outcome'], axis = 1)\n",
        "y = train_clean['Outcome']"
      ],
      "execution_count": null,
      "outputs": []
    },
    {
      "cell_type": "code",
      "metadata": {
        "id": "KSoQJ2aGW68x"
      },
      "source": [
        "X_train, X_test, Y_train, Y_test = train_test_split(X, y, test_size= 0.3, random_state= 42)"
      ],
      "execution_count": null,
      "outputs": []
    },
    {
      "cell_type": "code",
      "metadata": {
        "id": "FtaROWGSZx01"
      },
      "source": [
        "scaler = StandardScaler()\n",
        "\n",
        "X_train_scaled = scaler.fit_transform(X_train)\n",
        "X_test_scaled = scaler.transform(X_test)"
      ],
      "execution_count": null,
      "outputs": []
    },
    {
      "cell_type": "markdown",
      "metadata": {
        "id": "1n-r4z8jWXu-"
      },
      "source": [
        "### 2.1: Logistic Regression"
      ]
    },
    {
      "cell_type": "code",
      "metadata": {
        "id": "1cuq_7QhWXBp"
      },
      "source": [
        "from sklearn.linear_model import LogisticRegression"
      ],
      "execution_count": null,
      "outputs": []
    },
    {
      "cell_type": "code",
      "metadata": {
        "colab": {
          "base_uri": "https://localhost:8080/"
        },
        "id": "cU2hYIJXXXQ-",
        "outputId": "ce33eef7-774f-4b4c-8e1b-3cf25c82cd65"
      },
      "source": [
        "log_reg = LogisticRegression()\n",
        "\n",
        "log_reg.fit(X_train_scaled,Y_train)"
      ],
      "execution_count": null,
      "outputs": [
        {
          "output_type": "execute_result",
          "data": {
            "text/plain": [
              "LogisticRegression(C=1.0, class_weight=None, dual=False, fit_intercept=True,\n",
              "                   intercept_scaling=1, l1_ratio=None, max_iter=100,\n",
              "                   multi_class='auto', n_jobs=None, penalty='l2',\n",
              "                   random_state=None, solver='lbfgs', tol=0.0001, verbose=0,\n",
              "                   warm_start=False)"
            ]
          },
          "metadata": {},
          "execution_count": 220
        }
      ]
    },
    {
      "cell_type": "code",
      "metadata": {
        "colab": {
          "base_uri": "https://localhost:8080/",
          "height": 354
        },
        "id": "a7skDbzcYRXy",
        "outputId": "d3140669-87f8-4578-b000-4ef0847d95e1"
      },
      "source": [
        "Y_pred = log_reg.predict(X_test_scaled)\n",
        "\n",
        "cm = confusion_matrix(Y_test,Y_pred)\n",
        "\n",
        "conf_matrix = pd.DataFrame(data=cm,columns=['Predicted:0','Predicted:1'],index=['Actual:0','Actual:1'])\n",
        "plt.figure(figsize = (8,5))\n",
        "sns.heatmap(conf_matrix, annot=True,fmt='d',cmap=\"YlGnBu\");\n",
        "\n",
        "print('Log Loss value for this model: ')\n",
        "print(log_loss(Y_test,Y_pred))"
      ],
      "execution_count": null,
      "outputs": [
        {
          "output_type": "stream",
          "text": [
            "Log Loss value for this model: \n",
            "0.23201542386717175\n"
          ],
          "name": "stdout"
        },
        {
          "output_type": "display_data",
          "data": {
            "image/png": "[encoded data removed]",
            "text/plain": [
              "<Figure size 576x360 with 2 Axes>"
            ]
          },
          "metadata": {
            "needs_background": "light"
          }
        }
      ]
    },
    {
      "cell_type": "markdown",
      "metadata": {
        "id": "vGpbkNfhaXM0"
      },
      "source": [
        "## 2.2: Decision Tree"
      ]
    },
    {
      "cell_type": "code",
      "metadata": {
        "id": "26Vr7L6taakC"
      },
      "source": [
        "from sklearn.tree import DecisionTreeClassifier"
      ],
      "execution_count": null,
      "outputs": []
    },
    {
      "cell_type": "code",
      "metadata": {
        "colab": {
          "base_uri": "https://localhost:8080/"
        },
        "id": "MoTWo1U7ax-W",
        "outputId": "cc2e2f15-b3fe-4373-d8ff-3cb0b747ff84"
      },
      "source": [
        "d_tree = DecisionTreeClassifier(criterion = \"gini\", random_state = 100, max_depth = 20, min_samples_leaf = 5)\n",
        "  \n",
        "d_tree.fit(X_train, Y_train)"
      ],
      "execution_count": null,
      "outputs": [
        {
          "output_type": "execute_result",
          "data": {
            "text/plain": [
              "DecisionTreeClassifier(ccp_alpha=0.0, class_weight=None, criterion='gini',\n",
              "                       max_depth=20, max_features=None, max_leaf_nodes=None,\n",
              "                       min_impurity_decrease=0.0, min_impurity_split=None,\n",
              "                       min_samples_leaf=5, min_samples_split=2,\n",
              "                       min_weight_fraction_leaf=0.0, presort='deprecated',\n",
              "                       random_state=100, splitter='best')"
            ]
          },
          "metadata": {},
          "execution_count": 223
        }
      ]
    },
    {
      "cell_type": "code",
      "metadata": {
        "colab": {
          "base_uri": "https://localhost:8080/",
          "height": 354
        },
        "id": "yZZMo0LkbM51",
        "outputId": "20b0dace-f217-4fe7-96f5-c765cb1f975b"
      },
      "source": [
        "Y_pred2 = d_tree.predict(X_test)\n",
        "\n",
        "cm2 = confusion_matrix(Y_test,Y_pred2)\n",
        "\n",
        "conf_matrix2 = pd.DataFrame(data=cm2,columns=['Predicted:0','Predicted:1'],index=['Actual:0','Actual:1'])\n",
        "plt.figure(figsize = (8,5))\n",
        "sns.heatmap(conf_matrix2, annot=True,fmt='d',cmap=\"YlGnBu\");\n",
        "\n",
        "print('Log Loss value for this model: ')\n",
        "print(log_loss(Y_test,Y_pred2))"
      ],
      "execution_count": null,
      "outputs": [
        {
          "output_type": "stream",
          "text": [
            "Log Loss value for this model: \n",
            "0.4330934764975164\n"
          ],
          "name": "stdout"
        },
        {
          "output_type": "display_data",
          "data": {
            "image/png": "[encoded data removed]",
            "text/plain": [
              "<Figure size 576x360 with 2 Axes>"
            ]
          },
          "metadata": {
            "needs_background": "light"
          }
        }
      ]
    },
    {
      "cell_type": "markdown",
      "metadata": {
        "id": "2nTPirxab-tY"
      },
      "source": [
        "## 2.3: XGBoost"
      ]
    },
    {
      "cell_type": "code",
      "metadata": {
        "id": "JOkZuOEKcBe7"
      },
      "source": [
        "from xgboost import XGBClassifier"
      ],
      "execution_count": null,
      "outputs": []
    },
    {
      "cell_type": "code",
      "metadata": {
        "id": "_8D3B3815woq"
      },
      "source": [
        "X2 = train_clean.drop(['Outcome'], axis = 1)\n",
        "y2 = train_clean['Outcome']\n",
        "\n",
        "X_train2, X_test2, Y_train2, Y_test2 = train_test_split(X2, y2, test_size= 0.3, random_state= 42)"
      ],
      "execution_count": null,
      "outputs": []
    },
    {
      "cell_type": "code",
      "metadata": {
        "colab": {
          "base_uri": "https://localhost:8080/"
        },
        "id": "aXhuFYjBcbGp",
        "outputId": "6495928b-2a73-44aa-c915-33b4b9e8c797"
      },
      "source": [
        "XGB_model = XGBClassifier()\n",
        "XGB_model.fit(X_train2, Y_train2)"
      ],
      "execution_count": null,
      "outputs": [
        {
          "output_type": "execute_result",
          "data": {
            "text/plain": [
              "XGBClassifier(base_score=0.5, booster='gbtree', colsample_bylevel=1,\n",
              "              colsample_bynode=1, colsample_bytree=1, gamma=0,\n",
              "              learning_rate=0.1, max_delta_step=0, max_depth=3,\n",
              "              min_child_weight=1, missing=None, n_estimators=100, n_jobs=1,\n",
              "              nthread=None, objective='binary:logistic', random_state=0,\n",
              "              reg_alpha=0, reg_lambda=1, scale_pos_weight=1, seed=None,\n",
              "              silent=None, subsample=1, verbosity=1)"
            ]
          },
          "metadata": {},
          "execution_count": 230
        }
      ]
    },
    {
      "cell_type": "code",
      "metadata": {
        "colab": {
          "base_uri": "https://localhost:8080/",
          "height": 354
        },
        "id": "N_ebdLyNcm7t",
        "outputId": "412f9665-f238-420f-f02c-5095f717bce1"
      },
      "source": [
        "Y_pred3 = XGB_model.predict(X_test2)\n",
        "\n",
        "cm3 = confusion_matrix(Y_test2,Y_pred3)\n",
        "\n",
        "conf_matrix3 = pd.DataFrame(data=cm3,columns=['Predicted:0','Predicted:1'],index=['Actual:0','Actual:1'])\n",
        "plt.figure(figsize = (8,5))\n",
        "sns.heatmap(conf_matrix3, annot=True,fmt='d',cmap=\"YlGnBu\");\n",
        "\n",
        "print('Log Loss value for this model: ')\n",
        "print(log_loss(Y_test2,Y_pred3))"
      ],
      "execution_count": null,
      "outputs": [
        {
          "output_type": "stream",
          "text": [
            "Log Loss value for this model: \n",
            "0.32482073401689165\n"
          ],
          "name": "stdout"
        },
        {
          "output_type": "display_data",
          "data": {
            "image/png": "[encoded data removed]",
            "text/plain": [
              "<Figure size 576x360 with 2 Axes>"
            ]
          },
          "metadata": {
            "needs_background": "light"
          }
        }
      ]
    },
    {
      "cell_type": "markdown",
      "metadata": {
        "id": "HxtWLa_UdzIN"
      },
      "source": [
        "Parameter optimization"
      ]
    },
    {
      "cell_type": "code",
      "metadata": {
        "id": "DdQhYVz6eC3x"
      },
      "source": [
        "from sklearn.model_selection import RandomizedSearchCV, GridSearchCV\n",
        "from sklearn.pipeline import Pipeline"
      ],
      "execution_count": null,
      "outputs": []
    },
    {
      "cell_type": "code",
      "metadata": {
        "colab": {
          "base_uri": "https://localhost:8080/"
        },
        "id": "Yno6camjd1KY",
        "outputId": "30a085aa-69db-49ea-d5aa-21fe94f65eea"
      },
      "source": [
        "#Random Search\n",
        "params = {'min_child_weight': [1, 5, 10],\n",
        "        'gamma': [0.5, 1, 1.5, 2, 5],\n",
        "        'subsample': [0.6, 0.8, 1.0],\n",
        "        'colsample_bytree': [0.6, 0.8, 1.0],\n",
        "        'max_depth': [3, 4, 5],\n",
        "        }\n",
        "random_search = RandomizedSearchCV(XGBClassifier(), param_distributions=params, n_iter=100,                                   \n",
        "                                   scoring='neg_log_loss', n_jobs=4, verbose=3, random_state=1001 )\n",
        "random_search.fit(X_train,Y_train)"
      ],
      "execution_count": null,
      "outputs": [
        {
          "output_type": "stream",
          "text": [
            "Fitting 5 folds for each of 100 candidates, totalling 500 fits\n"
          ],
          "name": "stdout"
        },
        {
          "output_type": "stream",
          "text": [
            "[Parallel(n_jobs=4)]: Using backend LokyBackend with 4 concurrent workers.\n",
            "[Parallel(n_jobs=4)]: Done  24 tasks      | elapsed:   16.8s\n",
            "[Parallel(n_jobs=4)]: Done 120 tasks      | elapsed:  2.7min\n",
            "[Parallel(n_jobs=4)]: Done 280 tasks      | elapsed:  8.2min\n",
            "[Parallel(n_jobs=4)]: Done 500 out of 500 | elapsed: 17.2min finished\n"
          ],
          "name": "stderr"
        },
        {
          "output_type": "execute_result",
          "data": {
            "text/plain": [
              "RandomizedSearchCV(cv=None, error_score=nan,\n",
              "                   estimator=XGBClassifier(base_score=0.5, booster='gbtree',\n",
              "                                           colsample_bylevel=1,\n",
              "                                           colsample_bynode=1,\n",
              "                                           colsample_bytree=1, gamma=0,\n",
              "                                           learning_rate=0.1, max_delta_step=0,\n",
              "                                           max_depth=3, min_child_weight=1,\n",
              "                                           missing=None, n_estimators=100,\n",
              "                                           n_jobs=1, nthread=None,\n",
              "                                           objective='binary:logistic',\n",
              "                                           random_state=0, reg_alpha=0,\n",
              "                                           reg_lambda=1...\n",
              "                                           seed=None, silent=None, subsample=1,\n",
              "                                           verbosity=1),\n",
              "                   iid='deprecated', n_iter=100, n_jobs=4,\n",
              "                   param_distributions={'colsample_bytree': [0.6, 0.8, 1.0],\n",
              "                                        'gamma': [0.5, 1, 1.5, 2, 5],\n",
              "                                        'max_depth': [3, 4, 5],\n",
              "                                        'min_child_weight': [1, 5, 10],\n",
              "                                        'n_estimators': [100, 200, 500, 1000],\n",
              "                                        'subsample': [0.6, 0.8, 1.0]},\n",
              "                   pre_dispatch='2*n_jobs', random_state=1001, refit=True,\n",
              "                   return_train_score=False, scoring='neg_log_loss', verbose=3)"
            ]
          },
          "metadata": {},
          "execution_count": 150
        }
      ]
    },
    {
      "cell_type": "code",
      "metadata": {
        "colab": {
          "base_uri": "https://localhost:8080/"
        },
        "id": "7kFE_XvOjFaT",
        "outputId": "485ef609-a21d-4dda-da6d-95ee643a63a9"
      },
      "source": [
        "print('The best parameters for the model are:')\n",
        "print(random_search.best_params_)\n",
        "print('The best score obtained is: ')\n",
        "print(random_search.best_score_)"
      ],
      "execution_count": null,
      "outputs": [
        {
          "output_type": "stream",
          "text": [
            "The best parameters for the model are:\n",
            "{'subsample': 0.8, 'n_estimators': 200, 'min_child_weight': 1, 'max_depth': 5, 'gamma': 0.5, 'colsample_bytree': 1.0}\n",
            "The best score obtained is: \n",
            "-0.02646203089034892\n"
          ],
          "name": "stdout"
        }
      ]
    },
    {
      "cell_type": "code",
      "metadata": {
        "colab": {
          "base_uri": "https://localhost:8080/"
        },
        "id": "6tAmEQ72s5c5",
        "outputId": "e91977ae-23e4-4827-b2de-d7091624b357"
      },
      "source": [
        "best_params = random_search.best_params_\n",
        "new_XGB_model = XGBClassifier(max_depth=5, gamma=0.5, subsample=0.8, n_estimators=200)\n",
        "new_XGB_model.fit(X_train, Y_train)"
      ],
      "execution_count": null,
      "outputs": [
        {
          "output_type": "execute_result",
          "data": {
            "text/plain": [
              "XGBClassifier(base_score=0.5, booster='gbtree', colsample_bylevel=1,\n",
              "              colsample_bynode=1, colsample_bytree=1, gamma=0.5,\n",
              "              learning_rate=0.1, max_delta_step=0, max_depth=5,\n",
              "              min_child_weight=1, missing=None, n_estimators=200, n_jobs=1,\n",
              "              nthread=None, objective='binary:logistic', random_state=0,\n",
              "              reg_alpha=0, reg_lambda=1, scale_pos_weight=1, seed=None,\n",
              "              silent=None, subsample=0.8, verbosity=1)"
            ]
          },
          "metadata": {},
          "execution_count": 154
        }
      ]
    },
    {
      "cell_type": "code",
      "metadata": {
        "colab": {
          "base_uri": "https://localhost:8080/",
          "height": 354
        },
        "id": "dBG-j0pctUXq",
        "outputId": "2b5e148d-7745-4c06-bdfe-73be33de6831"
      },
      "source": [
        "Y_pred4 = new_XGB_model.predict(X_test)\n",
        "\n",
        "cm4 = confusion_matrix(Y_test,Y_pred4)\n",
        "\n",
        "conf_matrix4 = pd.DataFrame(data=cm4,columns=['Predicted:0','Predicted:1'],index=['Actual:0','Actual:1'])\n",
        "plt.figure(figsize = (8,5))\n",
        "sns.heatmap(conf_matrix4, annot=True,fmt='d',cmap=\"YlGnBu\");\n",
        "\n",
        "print('Log Loss value for this model: ')\n",
        "print(log_loss(Y_test,Y_pred4))"
      ],
      "execution_count": null,
      "outputs": [
        {
          "output_type": "stream",
          "text": [
            "Log Loss value for this model: \n",
            "0.32482037593474644\n"
          ],
          "name": "stdout"
        },
        {
          "output_type": "display_data",
          "data": {
            "image/png": "[encoded data removed]",
            "text/plain": [
              "<Figure size 576x360 with 2 Axes>"
            ]
          },
          "metadata": {
            "needs_background": "light"
          }
        }
      ]
    },
    {
      "cell_type": "markdown",
      "metadata": {
        "id": "r1oprMZX2VMX"
      },
      "source": [
        "So the best model is Logistic Regression"
      ]
    },
    {
      "cell_type": "markdown",
      "metadata": {
        "id": "nJj5oNWH2Yu8"
      },
      "source": [
        "## Step 3: Making predictions for submission"
      ]
    },
    {
      "cell_type": "code",
      "metadata": {
        "id": "4PXEpmMt3kr1"
      },
      "source": [
        "X_final = test_clean"
      ],
      "execution_count": null,
      "outputs": []
    },
    {
      "cell_type": "code",
      "metadata": {
        "id": "L-prsotA2-Zw"
      },
      "source": [
        "X_final = test_final\n",
        "\n",
        "X_final_scaled = scaler.transform(X_final)\n",
        "\n",
        "Y_pred_final = log_reg.predict(X_final_scaled)"
      ],
      "execution_count": null,
      "outputs": []
    },
    {
      "cell_type": "code",
      "metadata": {
        "colab": {
          "base_uri": "https://localhost:8080/"
        },
        "id": "mgdky2ct6g-B",
        "outputId": "25bafce0-a7cf-49e1-bc1d-539add1a4515"
      },
      "source": [
        "Y_pred_final"
      ],
      "execution_count": null,
      "outputs": [
        {
          "output_type": "execute_result",
          "data": {
            "text/plain": [
              "array([1, 1, 0, ..., 1, 1, 1])"
            ]
          },
          "metadata": {},
          "execution_count": 234
        }
      ]
    },
    {
      "cell_type": "code",
      "metadata": {
        "id": "WOVgk34A6kbM"
      },
      "source": [
        "predic = pd.DataFrame(Y_pred_final,columns=[\"Outcome\"] )\n",
        "\n",
        "predic.to_csv('/content/gdrive/MyDrive/Machine Learning Projects/Machinehack Hackatons/2 - Soccer Fever - 20210821/Predictions Juan.csv', index=False)"
      ],
      "execution_count": null,
      "outputs": []
    }
  ]
}