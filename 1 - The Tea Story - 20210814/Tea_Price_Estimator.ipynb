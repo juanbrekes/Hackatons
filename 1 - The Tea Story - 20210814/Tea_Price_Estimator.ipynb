{
  "nbformat": 4,
  "nbformat_minor": 0,
  "metadata": {
    "colab": {
      "name": "20210814 - Machinehack Hackaton - The Tea Story.ipynb",
      "provenance": [],
      "authorship_tag": "ABX9TyNNEtILUyYOqupE9mJ1wPUt",
      "include_colab_link": true
    },
    "kernelspec": {
      "name": "python3",
      "display_name": "Python 3"
    },
    "language_info": {
      "name": "python"
    }
  },
  "cells": [
    {
      "cell_type": "markdown",
      "metadata": {
        "id": "view-in-github",
        "colab_type": "text"
      },
      "source": [
        "<a href=\"https://colab.research.google.com/github/juanbrekes/Hackatons/blob/main/1%20-%20The%20Tea%20Story%20-%2020210814/Tea_Price_Estimator.ipynb\" target=\"_parent\"><img src=\"https://colab.research.google.com/assets/colab-badge.svg\" alt=\"Open In Colab\"/></a>"
      ]
    },
    {
      "cell_type": "markdown",
      "metadata": {
        "id": "pS0aCsPzqIw1"
      },
      "source": [
        "# The Tea Story\n",
        "\n",
        "This is the first Hackathon i'm participting, so let's see how good will I perform.\n",
        "\n",
        "Real-world data is not always very legible or easy to understand. A lot of work goes around interpreting certain fields and trying to make some sense of the data by data wrangling, EDA  and imputation, etc. For this challenge, we present unprocessed data for you to get a flavour of a basic data engineering.\n",
        "\n",
        "In this hackathon, we are challenging the MachineHack community to analyse the temporal nature of tea prices in the training dataset and forecast the weekly average tea price for the 29 weeks mentioned in the test set.\n",
        "\n",
        "**About Dataset:**\n",
        "\n",
        "*   Train.csv — 544 rows x 15 columns (includes ‘Average’ as a target variable)\n",
        "*   Test.csv — 29 rows x 15 columns\n",
        "\n",
        "\n",
        "\n",
        "**Column details:** \n",
        "\n",
        "‘WeekEnding_Date’;“Average Prices across Auction Places Kolkata, Bangalore, Cochin, Darjeeling, Ernakulam, Siliguri and Guwahati”; and Ref_Price across Auction Places Kolkata, Bangalore, Cochin, Darjeeling, Ernakulam, Siliguri and Guwahati.”\n",
        "\n",
        "**Target Variable:  Average**\n",
        "\n",
        "The data can be obtained from [this link](https://machinehack.com/hackathons/teastory_weekend_hackathon_edition_2_the_last_hacker_standing/data)"
      ]
    },
    {
      "cell_type": "markdown",
      "metadata": {
        "id": "YrUE1ubXrGoB"
      },
      "source": [
        "## Step 1: Load the Data\n",
        "\n",
        "I downloaded the data from the link above and now I load it here to work."
      ]
    },
    {
      "cell_type": "code",
      "metadata": {
        "colab": {
          "base_uri": "https://localhost:8080/"
        },
        "id": "7eJP3Tz7sO4y",
        "outputId": "9aa667c1-5e08-420b-dcbc-9a16ba4af490"
      },
      "source": [
        "from google.colab import drive \n",
        "drive.mount('/content/gdrive')"
      ],
      "execution_count": null,
      "outputs": [
        {
          "output_type": "stream",
          "text": [
            "Mounted at /content/gdrive\n"
          ],
          "name": "stdout"
        }
      ]
    },
    {
      "cell_type": "code",
      "metadata": {
        "id": "mmIrX4BUsuhu"
      },
      "source": [
        "import pandas as pd\n",
        "import numpy as np\n",
        "import matplotlib.pyplot as plt\n",
        "import seaborn as sns"
      ],
      "execution_count": null,
      "outputs": []
    },
    {
      "cell_type": "code",
      "metadata": {
        "colab": {
          "base_uri": "https://localhost:8080/",
          "height": 224
        },
        "id": "E0aABOW2sTS8",
        "outputId": "62d33b93-43c4-462f-8bf5-cc3ee0072bab"
      },
      "source": [
        "df = pd.read_csv('/content/gdrive/MyDrive/Machine Learning Projects/Machinehack Hackatons/1 - The Tea Story - 20210814/train.csv')\n",
        "\n",
        "df.head()"
      ],
      "execution_count": null,
      "outputs": [
        {
          "output_type": "execute_result",
          "data": {
            "text/html": [
              "<div>\n",
              "<style scoped>\n",
              "    .dataframe tbody tr th:only-of-type {\n",
              "        vertical-align: middle;\n",
              "    }\n",
              "\n",
              "    .dataframe tbody tr th {\n",
              "        vertical-align: top;\n",
              "    }\n",
              "\n",
              "    .dataframe thead th {\n",
              "        text-align: right;\n",
              "    }\n",
              "</style>\n",
              "<table border=\"1\" class=\"dataframe\">\n",
              "  <thead>\n",
              "    <tr style=\"text-align: right;\">\n",
              "      <th></th>\n",
              "      <th>WeekEnding_Date</th>\n",
              "      <th>Kolkata_Average_Price</th>\n",
              "      <th>Kolkata_Ref_Price</th>\n",
              "      <th>Bangalore_Average_Price</th>\n",
              "      <th>Bangalore_Ref_Price</th>\n",
              "      <th>Cochin_Average_Price</th>\n",
              "      <th>Cochin_Ref_Price</th>\n",
              "      <th>Darjeeling_Average_Price</th>\n",
              "      <th>Darjeeling_Ref_Price</th>\n",
              "      <th>Ernakulam_Average_Price</th>\n",
              "      <th>Ernakulam_Ref_Price</th>\n",
              "      <th>Siliguri_Average_Price</th>\n",
              "      <th>Siliguri_Ref_Price</th>\n",
              "      <th>Guwahati_Average_Price</th>\n",
              "      <th>Guwahati_Ref_Price</th>\n",
              "      <th>Average</th>\n",
              "    </tr>\n",
              "  </thead>\n",
              "  <tbody>\n",
              "    <tr>\n",
              "      <th>0</th>\n",
              "      <td>03/01/09</td>\n",
              "      <td>99.01</td>\n",
              "      <td>79.79</td>\n",
              "      <td>N.S.</td>\n",
              "      <td>76.19</td>\n",
              "      <td>84.02</td>\n",
              "      <td>70.07</td>\n",
              "      <td>81.66</td>\n",
              "      <td>57.83</td>\n",
              "      <td>68.94</td>\n",
              "      <td>51.67</td>\n",
              "      <td>70.74</td>\n",
              "      <td>53.88</td>\n",
              "      <td>65.55</td>\n",
              "      <td>46.75</td>\n",
              "      <td>69.700000</td>\n",
              "    </tr>\n",
              "    <tr>\n",
              "      <th>1</th>\n",
              "      <td>10/01/09</td>\n",
              "      <td>97.74</td>\n",
              "      <td>78.73</td>\n",
              "      <td>87.48</td>\n",
              "      <td>73.97</td>\n",
              "      <td>82.72</td>\n",
              "      <td>68.17</td>\n",
              "      <td>83.31</td>\n",
              "      <td>58.02</td>\n",
              "      <td>67.24</td>\n",
              "      <td>52.23</td>\n",
              "      <td>70.47</td>\n",
              "      <td>53.39</td>\n",
              "      <td>67.39</td>\n",
              "      <td>46.84</td>\n",
              "      <td>70.550000</td>\n",
              "    </tr>\n",
              "    <tr>\n",
              "      <th>2</th>\n",
              "      <td>17/01/09</td>\n",
              "      <td>95.95</td>\n",
              "      <td>71.01</td>\n",
              "      <td>87.66</td>\n",
              "      <td>71.01</td>\n",
              "      <td>80.58</td>\n",
              "      <td>67.16</td>\n",
              "      <td>82.25</td>\n",
              "      <td>57.49</td>\n",
              "      <td>69.64</td>\n",
              "      <td>52.48</td>\n",
              "      <td>71.66</td>\n",
              "      <td>53.18</td>\n",
              "      <td>69.51</td>\n",
              "      <td>48.04</td>\n",
              "      <td>69.830000</td>\n",
              "    </tr>\n",
              "    <tr>\n",
              "      <th>3</th>\n",
              "      <td>24/01/09</td>\n",
              "      <td>94.14</td>\n",
              "      <td>73.38</td>\n",
              "      <td>85.69</td>\n",
              "      <td>65.66</td>\n",
              "      <td>N.S.</td>\n",
              "      <td>65.57</td>\n",
              "      <td>80.87</td>\n",
              "      <td>54.59</td>\n",
              "      <td>N.S.</td>\n",
              "      <td>53.43</td>\n",
              "      <td>71.12</td>\n",
              "      <td>52.07</td>\n",
              "      <td>69.14</td>\n",
              "      <td>48.5</td>\n",
              "      <td>67.846667</td>\n",
              "    </tr>\n",
              "    <tr>\n",
              "      <th>4</th>\n",
              "      <td>31/01/09</td>\n",
              "      <td>91.45</td>\n",
              "      <td>70.39</td>\n",
              "      <td>N.S.</td>\n",
              "      <td>64.99</td>\n",
              "      <td>79.27</td>\n",
              "      <td>62.09</td>\n",
              "      <td>80.76</td>\n",
              "      <td>57.06</td>\n",
              "      <td>69.65</td>\n",
              "      <td>53.38</td>\n",
              "      <td>72.3</td>\n",
              "      <td>52.5</td>\n",
              "      <td>69.39</td>\n",
              "      <td>50.33</td>\n",
              "      <td>67.196923</td>\n",
              "    </tr>\n",
              "  </tbody>\n",
              "</table>\n",
              "</div>"
            ],
            "text/plain": [
              "  WeekEnding_Date Kolkata_Average_Price  ... Guwahati_Ref_Price    Average\n",
              "0        03/01/09                 99.01  ...              46.75  69.700000\n",
              "1        10/01/09                 97.74  ...              46.84  70.550000\n",
              "2        17/01/09                 95.95  ...              48.04  69.830000\n",
              "3        24/01/09                 94.14  ...               48.5  67.846667\n",
              "4        31/01/09                 91.45  ...              50.33  67.196923\n",
              "\n",
              "[5 rows x 16 columns]"
            ]
          },
          "metadata": {
            "tags": []
          },
          "execution_count": 3
        }
      ]
    },
    {
      "cell_type": "markdown",
      "metadata": {
        "id": "JNkJug7Zs7gD"
      },
      "source": [
        "##Step 2: EDA and Data Cleaning"
      ]
    },
    {
      "cell_type": "code",
      "metadata": {
        "colab": {
          "base_uri": "https://localhost:8080/"
        },
        "id": "EIfMEWW9tCch",
        "outputId": "0209af6b-dc33-4626-e823-453cfa66389a"
      },
      "source": [
        "df.shape"
      ],
      "execution_count": null,
      "outputs": [
        {
          "output_type": "execute_result",
          "data": {
            "text/plain": [
              "(544, 16)"
            ]
          },
          "metadata": {
            "tags": []
          },
          "execution_count": 4
        }
      ]
    },
    {
      "cell_type": "code",
      "metadata": {
        "colab": {
          "base_uri": "https://localhost:8080/"
        },
        "id": "25BW6LIour-H",
        "outputId": "0c4efe80-25a3-4414-87f1-38f2f38b33c9"
      },
      "source": [
        "df.dtypes"
      ],
      "execution_count": null,
      "outputs": [
        {
          "output_type": "execute_result",
          "data": {
            "text/plain": [
              "WeekEnding_Date              object\n",
              "Kolkata_Average_Price        object\n",
              "Kolkata_Ref_Price            object\n",
              "Bangalore_Average_Price      object\n",
              "Bangalore_Ref_Price          object\n",
              "Cochin_Average_Price         object\n",
              "Cochin_Ref_Price             object\n",
              "Darjeeling_Average_Price     object\n",
              "Darjeeling_Ref_Price         object\n",
              "Ernakulam_Average_Price      object\n",
              "Ernakulam_Ref_Price          object\n",
              "Siliguri_Average_Price       object\n",
              "Siliguri_Ref_Price           object\n",
              "Guwahati_Average_Price       object\n",
              "Guwahati_Ref_Price           object\n",
              "Average                     float64\n",
              "dtype: object"
            ]
          },
          "metadata": {
            "tags": []
          },
          "execution_count": 5
        }
      ]
    },
    {
      "cell_type": "markdown",
      "metadata": {
        "id": "lDhfo0ZCu0hE"
      },
      "source": [
        "All the variables, except the 'Average' column, is defined as an object. Lets change that. I will drop the 'WeekEnding_Date' column and chanche all other columns to float"
      ]
    },
    {
      "cell_type": "code",
      "metadata": {
        "id": "j7o2GHbhy9b6"
      },
      "source": [
        "df = df.drop(['WeekEnding_Date'], axis = 1)"
      ],
      "execution_count": null,
      "outputs": []
    },
    {
      "cell_type": "code",
      "metadata": {
        "colab": {
          "base_uri": "https://localhost:8080/"
        },
        "id": "-64Upl2EzY7s",
        "outputId": "8c6f6e98-0cf0-4c7c-be2c-ce05fc8ddd30"
      },
      "source": [
        "df.columns"
      ],
      "execution_count": null,
      "outputs": [
        {
          "output_type": "execute_result",
          "data": {
            "text/plain": [
              "Index(['Kolkata_Average_Price', 'Kolkata_Ref_Price', 'Bangalore_Average_Price',\n",
              "       'Bangalore_Ref_Price', 'Cochin_Average_Price', 'Cochin_Ref_Price',\n",
              "       'Darjeeling_Average_Price', 'Darjeeling_Ref_Price',\n",
              "       'Ernakulam_Average_Price', 'Ernakulam_Ref_Price',\n",
              "       'Siliguri_Average_Price', 'Siliguri_Ref_Price',\n",
              "       'Guwahati_Average_Price', 'Guwahati_Ref_Price', 'Average'],\n",
              "      dtype='object')"
            ]
          },
          "metadata": {
            "tags": []
          },
          "execution_count": 7
        }
      ]
    },
    {
      "cell_type": "code",
      "metadata": {
        "id": "iwmDYSqM0AWW"
      },
      "source": [
        "features = ['Kolkata_Average_Price', 'Kolkata_Ref_Price', 'Bangalore_Average_Price',\n",
        "            'Bangalore_Ref_Price', 'Cochin_Average_Price', 'Cochin_Ref_Price',\n",
        "            'Darjeeling_Average_Price', 'Darjeeling_Ref_Price',\n",
        "            'Ernakulam_Average_Price', 'Ernakulam_Ref_Price',\n",
        "            'Siliguri_Average_Price', 'Siliguri_Ref_Price',\n",
        "            'Guwahati_Average_Price', 'Guwahati_Ref_Price']\n",
        "\n",
        "for ft in features:\n",
        "  df[ft] = pd.to_numeric(df[ft], errors = 'coerce')"
      ],
      "execution_count": null,
      "outputs": []
    },
    {
      "cell_type": "markdown",
      "metadata": {
        "id": "6qpWyVmt0xxZ"
      },
      "source": [
        "Let´s look for missing values"
      ]
    },
    {
      "cell_type": "code",
      "metadata": {
        "colab": {
          "base_uri": "https://localhost:8080/"
        },
        "id": "jyUtZ_3g0xPW",
        "outputId": "abf58536-26d6-49be-fcab-400a25a50b3d"
      },
      "source": [
        "missing_values_count = df.isnull().sum()\n",
        "\n",
        "print(missing_values_count)"
      ],
      "execution_count": null,
      "outputs": [
        {
          "output_type": "stream",
          "text": [
            "Kolkata_Average_Price       40\n",
            "Kolkata_Ref_Price           42\n",
            "Bangalore_Average_Price     47\n",
            "Bangalore_Ref_Price         49\n",
            "Cochin_Average_Price        45\n",
            "Cochin_Ref_Price            49\n",
            "Darjeeling_Average_Price    37\n",
            "Darjeeling_Ref_Price        38\n",
            "Ernakulam_Average_Price     15\n",
            "Ernakulam_Ref_Price         17\n",
            "Siliguri_Average_Price      21\n",
            "Siliguri_Ref_Price          23\n",
            "Guwahati_Average_Price       9\n",
            "Guwahati_Ref_Price           9\n",
            "Average                      0\n",
            "dtype: int64\n"
          ],
          "name": "stdout"
        }
      ]
    },
    {
      "cell_type": "markdown",
      "metadata": {
        "id": "GMtRXi4h1zHu"
      },
      "source": [
        "Let's see how missing values are distributed"
      ]
    },
    {
      "cell_type": "code",
      "metadata": {
        "colab": {
          "base_uri": "https://localhost:8080/",
          "height": 405
        },
        "id": "Jcv3622A2Bze",
        "outputId": "9bb10bad-8505-42fe-f670-80f61ff2b8d3"
      },
      "source": [
        "sns.heatmap(df.isnull(), cbar=False, cmap=\"rocket\")"
      ],
      "execution_count": null,
      "outputs": [
        {
          "output_type": "execute_result",
          "data": {
            "text/plain": [
              "<matplotlib.axes._subplots.AxesSubplot at 0x7f7fbc0acd90>"
            ]
          },
          "metadata": {
            "tags": []
          },
          "execution_count": 10
        },
        {
          "output_type": "display_data",
          "data": {
            "image/png": "[encoded data removed]",
            "text/plain": [
              "<Figure size 432x288 with 1 Axes>"
            ]
          },
          "metadata": {
            "tags": [],
            "needs_background": "light"
          }
        }
      ]
    },
    {
      "cell_type": "markdown",
      "metadata": {
        "id": "vhinyCWL221f"
      },
      "source": [
        "Missing values are evenly distributed amongst all diferent columns. Since the price tends to rise is tima, i think it is not a good idea to replace the missing values with the mean of all the columns values. I think a better aproach would me to replace ir¿t with me mean of a range of values closer in tima with the missing one. I'll take the five weeks prior and post a missing value and calculate the mean."
      ]
    },
    {
      "cell_type": "code",
      "metadata": {
        "id": "-W9Y1AVWAa49"
      },
      "source": [
        "df = df.interpolate()\n",
        "df['Bangalore_Average_Price'][0] = df['Bangalore_Average_Price'][1]\n",
        "\n",
        "# This last step is bacause I can't interpolate the first value of the column, since I don't have any previous number"
      ],
      "execution_count": null,
      "outputs": []
    },
    {
      "cell_type": "code",
      "metadata": {
        "colab": {
          "base_uri": "https://localhost:8080/"
        },
        "id": "4CNTY5TIAvHf",
        "outputId": "801b6a1a-9026-4dbf-d62e-31a4a6375d78"
      },
      "source": [
        "missing_values_count = df.isnull().sum()\n",
        "\n",
        "print(missing_values_count)"
      ],
      "execution_count": null,
      "outputs": [
        {
          "output_type": "stream",
          "text": [
            "Kolkata_Average_Price       0\n",
            "Kolkata_Ref_Price           0\n",
            "Bangalore_Average_Price     0\n",
            "Bangalore_Ref_Price         0\n",
            "Cochin_Average_Price        0\n",
            "Cochin_Ref_Price            0\n",
            "Darjeeling_Average_Price    0\n",
            "Darjeeling_Ref_Price        0\n",
            "Ernakulam_Average_Price     0\n",
            "Ernakulam_Ref_Price         0\n",
            "Siliguri_Average_Price      0\n",
            "Siliguri_Ref_Price          0\n",
            "Guwahati_Average_Price      0\n",
            "Guwahati_Ref_Price          0\n",
            "Average                     0\n",
            "dtype: int64\n"
          ],
          "name": "stdout"
        }
      ]
    },
    {
      "cell_type": "markdown",
      "metadata": {
        "id": "EayEmMbyCKcB"
      },
      "source": [
        "I'll now check for possible outliers"
      ]
    },
    {
      "cell_type": "code",
      "metadata": {
        "colab": {
          "base_uri": "https://localhost:8080/",
          "height": 401
        },
        "id": "YsrVlX-0EwuG",
        "outputId": "b34a0930-73ed-4cd7-b309-d9a6d602ac19"
      },
      "source": [
        "df.boxplot(rot = 90)"
      ],
      "execution_count": null,
      "outputs": [
        {
          "output_type": "execute_result",
          "data": {
            "text/plain": [
              "<matplotlib.axes._subplots.AxesSubplot at 0x7f7fb3259c10>"
            ]
          },
          "metadata": {
            "tags": []
          },
          "execution_count": 14
        },
        {
          "output_type": "display_data",
          "data": {
            "image/png": "[encoded data removed]",
            "text/plain": [
              "<Figure size 432x288 with 1 Axes>"
            ]
          },
          "metadata": {
            "tags": [],
            "needs_background": "light"
          }
        }
      ]
    },
    {
      "cell_type": "markdown",
      "metadata": {
        "id": "di3PB_BlGdp3"
      },
      "source": [
        "I can see some rare values on the 'Darjeeling_Ref_Price', 'Ernakulam_Average_Price', 'Siliguri_Average_Price' and 'Guwahati_Average_Price' columns. I'll leave them (for now) since a don´t think it will affect the overall result "
      ]
    },
    {
      "cell_type": "code",
      "metadata": {
        "colab": {
          "base_uri": "https://localhost:8080/",
          "height": 388
        },
        "id": "CABQgX7UJrta",
        "outputId": "53f3418b-cb9b-4693-8e43-578a30802ea1"
      },
      "source": [
        "correlation = df.corr()\n",
        "\n",
        "sns.heatmap(correlation)\n",
        "\n",
        "plt.show()"
      ],
      "execution_count": null,
      "outputs": [
        {
          "output_type": "display_data",
          "data": {
            "image/png": "[encoded data removed]",
            "text/plain": [
              "<Figure size 432x288 with 2 Axes>"
            ]
          },
          "metadata": {
            "tags": [],
            "needs_background": "light"
          }
        }
      ]
    },
    {
      "cell_type": "markdown",
      "metadata": {
        "id": "7wSiXu0vIT0P"
      },
      "source": [
        "## Model Selection\n",
        "\n",
        "This is a regression model, so I will try 3 different models. I will try linear regression, random forest and a neural network, and see wich one performed better."
      ]
    },
    {
      "cell_type": "markdown",
      "metadata": {
        "id": "ydgDHbB7Jsq7"
      },
      "source": [
        "### Linear Regression"
      ]
    },
    {
      "cell_type": "code",
      "metadata": {
        "id": "GGjZk2K1L0wf"
      },
      "source": [
        "from sklearn.linear_model import LinearRegression\n",
        "from sklearn.model_selection import train_test_split\n",
        "from sklearn.metrics import r2_score\n",
        "from sklearn.metrics import mean_squared_error, r2_score"
      ],
      "execution_count": null,
      "outputs": []
    },
    {
      "cell_type": "code",
      "metadata": {
        "id": "MNo3CVNQL-gw"
      },
      "source": [
        "X = df[features]\n",
        "y = df.Average\n",
        "\n",
        "X_train, X_valid, y_train, y_valid = train_test_split(X, y, train_size=0.7, test_size=0.3, random_state = 1)"
      ],
      "execution_count": null,
      "outputs": []
    },
    {
      "cell_type": "code",
      "metadata": {
        "id": "Up6zXQHsNjSH"
      },
      "source": [
        "def score_dataset(X_train, X_valid, y_train, y_valid):\n",
        "    model = LinearRegression()\n",
        "    model.fit(X_train, y_train)\n",
        "    preds = model.predict(X_valid)\n",
        "    return np.sqrt(mean_squared_error(y_valid, preds))"
      ],
      "execution_count": null,
      "outputs": []
    },
    {
      "cell_type": "code",
      "metadata": {
        "colab": {
          "base_uri": "https://localhost:8080/"
        },
        "id": "8hOWSjhCOGt0",
        "outputId": "c3a4d2b1-c431-4e18-b4c6-72e38945b832"
      },
      "source": [
        "print(\"RMSE from Linear Regression:\")\n",
        "print(score_dataset(X_train, X_valid, y_train, y_valid))"
      ],
      "execution_count": null,
      "outputs": [
        {
          "output_type": "stream",
          "text": [
            "RMSE from Linear Regression:\n",
            "2.6034428070864895\n"
          ],
          "name": "stdout"
        }
      ]
    },
    {
      "cell_type": "markdown",
      "metadata": {
        "id": "2FSSTgiLOt1H"
      },
      "source": [
        "I'll try again but only with the features that have more correlation with 'Average'"
      ]
    },
    {
      "cell_type": "code",
      "metadata": {
        "id": "m6cFmAIOO1Sb"
      },
      "source": [
        "features2 = ['Kolkata_Average_Price','Kolkata_Ref_Price','Bangalore_Average_Price',\n",
        "             'Bangalore_Ref_Price','Cochin_Average_Price','Cochin_Ref_Price']\n",
        "X2 = df[features2]\n",
        "\n",
        "X_train2, X_valid2, y_train2, y_valid2 = train_test_split(X2, y, train_size=0.7, test_size=0.3, random_state = 1)"
      ],
      "execution_count": null,
      "outputs": []
    },
    {
      "cell_type": "code",
      "metadata": {
        "colab": {
          "base_uri": "https://localhost:8080/"
        },
        "id": "gE9XbSpApP7G",
        "outputId": "cb94083d-8c56-486f-c440-2bfd8af0b3bd"
      },
      "source": [
        "print(\"RMSE from Linear Regression 2:\")\n",
        "print(score_dataset(X_train2, X_valid2, y_train2, y_valid2))"
      ],
      "execution_count": null,
      "outputs": [
        {
          "output_type": "stream",
          "text": [
            "RMSE from Linear Regression 2:\n",
            "6.578525618367622\n"
          ],
          "name": "stdout"
        }
      ]
    },
    {
      "cell_type": "markdown",
      "metadata": {
        "id": "aoeH1W2NpqLo"
      },
      "source": [
        "It seems that by selecting less variables I got worse results than by using all the dataset. So I'll keep the original results. \n",
        "Finally, lets try if by normalizing the variables I get better results..."
      ]
    },
    {
      "cell_type": "code",
      "metadata": {
        "colab": {
          "base_uri": "https://localhost:8080/"
        },
        "id": "R9mzL_eNzPTX",
        "outputId": "251df724-8d8b-488c-cce8-5c1dc938ec2c"
      },
      "source": [
        "from sklearn.preprocessing import StandardScaler\n",
        "\n",
        "scaler = StandardScaler() # Normalize variables\n",
        "\n",
        "X_train_scaled = scaler.fit_transform(X_train)\n",
        "X_valid_scaled = scaler.transform(X_valid)\n",
        "\n",
        "print(\"RMSE from Linear Regression 2:\")\n",
        "print(score_dataset(X_train_scaled, X_valid_scaled, y_train, y_valid))"
      ],
      "execution_count": null,
      "outputs": [
        {
          "output_type": "stream",
          "text": [
            "RMSE from Linear Regression 2:\n",
            "2.6034428070864886\n"
          ],
          "name": "stdout"
        }
      ]
    },
    {
      "cell_type": "markdown",
      "metadata": {
        "id": "DJmx0DqM0Juu"
      },
      "source": [
        "It doesn't help at all. So lets keep the first result."
      ]
    },
    {
      "cell_type": "markdown",
      "metadata": {
        "id": "CmMwDuwHp54u"
      },
      "source": [
        "### Random Forest\n",
        "\n",
        "Here I'm going to try different number of estimators to see if it improves the result."
      ]
    },
    {
      "cell_type": "code",
      "metadata": {
        "id": "NZr3vU_Eqvwf"
      },
      "source": [
        "from sklearn.ensemble import RandomForestRegressor\n",
        "from prettytable import PrettyTable"
      ],
      "execution_count": null,
      "outputs": []
    },
    {
      "cell_type": "code",
      "metadata": {
        "id": "0Sx2TjT-q2UE"
      },
      "source": [
        "estimators = [100, 200, 500, 1000]\n",
        "\n",
        "X = df[features]\n",
        "y = df.Average\n",
        "\n",
        "X_train, X_valid, y_train, y_valid = train_test_split(X, y, train_size=0.7, test_size=0.3, random_state = 1)"
      ],
      "execution_count": null,
      "outputs": []
    },
    {
      "cell_type": "markdown",
      "metadata": {
        "id": "Sn9KGVkFxxMH"
      },
      "source": [
        "After trying many different number of estimators I could see that it doesn´t improve so much the results, so I'll jus keep the result that gave me the best outcome."
      ]
    },
    {
      "cell_type": "code",
      "metadata": {
        "id": "Z3ijWGw-rOk2"
      },
      "source": [
        "from prettytable import PrettyTable\n",
        "\n",
        "def test_rf(estimators,X_train, X_valid, y_train, y_valid):\n",
        "  results = []\n",
        "  for estimator in estimators:\n",
        "    model = RandomForestRegressor(n_estimators=estimator, random_state = 1)\n",
        "    model.fit(X_train, y_train)\n",
        "    preds = model.predict(X_valid)\n",
        "    results.append(np.sqrt(mean_squared_error(y_valid, preds)))\n",
        "  \n",
        "  min_result = min(results)\n",
        "  min_result_index = results.index(min_result)\n",
        "  optimal_estimator = estimators[min_result_index]\n",
        "\n",
        "  print(f'The best number of estimators for the model is {optimal_estimator}')\n",
        "  \n",
        "  return min_result"
      ],
      "execution_count": null,
      "outputs": []
    },
    {
      "cell_type": "code",
      "metadata": {
        "colab": {
          "base_uri": "https://localhost:8080/"
        },
        "id": "rHwUbPjAssip",
        "outputId": "b14ac60a-77f2-4cff-e99a-6e9f57433077"
      },
      "source": [
        "print(\"RMSE from Random Forest:\")\n",
        "print(test_rf(estimators,X_train, X_valid, y_train, y_valid))"
      ],
      "execution_count": null,
      "outputs": [
        {
          "output_type": "stream",
          "text": [
            "RMSE from Random Forest:\n",
            "The best number of estimators for the model is 500\n",
            "3.154619738908847\n"
          ],
          "name": "stdout"
        }
      ]
    },
    {
      "cell_type": "markdown",
      "metadata": {
        "id": "N78r8Gar0QJC"
      },
      "source": [
        "It seems that the Random Forest performs poorly compared to Linear Regression"
      ]
    },
    {
      "cell_type": "markdown",
      "metadata": {
        "id": "VNmubzDC0Vro"
      },
      "source": [
        "### Neural Network"
      ]
    },
    {
      "cell_type": "code",
      "metadata": {
        "id": "Ye2QWuo-0YKa"
      },
      "source": [
        "from keras.models import Sequential\n",
        "from keras.layers import Dense\n",
        "\n",
        "X = df[features]\n",
        "y = df.Average\n",
        "\n",
        "X_train, X_valid, y_train, y_valid = train_test_split(X, y, train_size=0.7, test_size=0.3, random_state = 1)\n",
        "\n",
        "def model_nn(X_train, X_valid, y_train, y_valid):\n",
        "  \n",
        "  model_nn = Sequential()\n",
        "\n",
        "  model_nn.add(Dense(16,input_dim=X_train_scaled.shape[1],activation='relu'))\n",
        "  model_nn.add(Dense(8,activation='relu'))\n",
        "  model_nn.add(Dense(4,activation='relu'))\n",
        "  model_nn.add(Dense(1,activation='linear'))\n",
        "\n",
        "  model_nn.compile(loss='mean_squared_error',optimizer='adam')\n",
        "\n",
        "  model_nn.summary()\n",
        "  epochs=20\n",
        "  batch_size=10\n",
        "\n",
        "  model_nn.fit(X_train,np.log(y_train),verbose=0,validation_data=(X_valid,np.log(y_valid)),epochs=epochs,batch_size=batch_size)\n",
        "\n",
        "  predictions_nn = model_nn.predict(X_valid)\n",
        "\n",
        "  return np.sqrt(mean_squared_error(y_valid, predictions_nn))"
      ],
      "execution_count": null,
      "outputs": []
    },
    {
      "cell_type": "code",
      "metadata": {
        "colab": {
          "base_uri": "https://localhost:8080/"
        },
        "id": "SxhJypru19Wl",
        "outputId": "fd4f727b-8a70-4a0b-a443-d152dcddda21"
      },
      "source": [
        "print(\"RMSE from Neural Network:\")\n",
        "print(model_nn(X_train, X_valid, y_train, y_valid))"
      ],
      "execution_count": null,
      "outputs": [
        {
          "output_type": "stream",
          "text": [
            "RMSE from Neural Network:\n",
            "Model: \"sequential\"\n",
            "_________________________________________________________________\n",
            "Layer (type)                 Output Shape              Param #   \n",
            "=================================================================\n",
            "dense (Dense)                (None, 16)                240       \n",
            "_________________________________________________________________\n",
            "dense_1 (Dense)              (None, 8)                 136       \n",
            "_________________________________________________________________\n",
            "dense_2 (Dense)              (None, 4)                 36        \n",
            "_________________________________________________________________\n",
            "dense_3 (Dense)              (None, 1)                 5         \n",
            "=================================================================\n",
            "Total params: 417\n",
            "Trainable params: 417\n",
            "Non-trainable params: 0\n",
            "_________________________________________________________________\n",
            "97.24268159879112\n"
          ],
          "name": "stdout"
        }
      ]
    },
    {
      "cell_type": "markdown",
      "metadata": {
        "id": "-eDfQ8cM2sQk"
      },
      "source": [
        "This is by far the worst model..."
      ]
    },
    {
      "cell_type": "markdown",
      "metadata": {
        "id": "WNwGq7Nx3GMd"
      },
      "source": [
        "## Model Selection\n",
        "\n",
        "It seems that the best model is the simplest one too... at least for now.\n",
        "I will go a bit deeper"
      ]
    },
    {
      "cell_type": "code",
      "metadata": {
        "colab": {
          "base_uri": "https://localhost:8080/"
        },
        "id": "ju0c2x_r3FyR",
        "outputId": "dee2d6ca-da6b-4fb6-d5b1-433d56d8e2ac"
      },
      "source": [
        "final_model = LinearRegression()\n",
        "\n",
        "final_model.fit(X_train, y_train)\n",
        "preds = final_model.predict(X_valid)\n",
        "\n",
        "RMSE = round(np.sqrt(mean_squared_error(y_valid, preds)),3)\n",
        "R2S = round(r2_score(y_valid, preds),3)\n",
        "print(f'The RMSE of the Linear Regression model is {RMSE}')\n",
        "print(f'The R2 Score of the Linear Regression model is {R2S}')"
      ],
      "execution_count": null,
      "outputs": [
        {
          "output_type": "stream",
          "text": [
            "The RMSE of the Linear Regression model is 2.603\n",
            "The R2 Score of the Linear Regression model is 0.965\n"
          ],
          "name": "stdout"
        }
      ]
    },
    {
      "cell_type": "markdown",
      "metadata": {
        "id": "kkAn5crH69eS"
      },
      "source": [
        "I'm going to use othe library also to get more precise indicators. I'll use tha **Statsmodels** library so I can get some stadistical tests..."
      ]
    },
    {
      "cell_type": "code",
      "metadata": {
        "colab": {
          "base_uri": "https://localhost:8080/"
        },
        "id": "ql_MJvy62xDM",
        "outputId": "eb0de28e-1af7-41bc-c132-d26d298420c8"
      },
      "source": [
        "import statsmodels.api as sm\n",
        "import statsmodels.formula.api as smf\n",
        "from statsmodels.stats.anova import anova_lm\n",
        "from scipy import stats"
      ],
      "execution_count": null,
      "outputs": [
        {
          "output_type": "stream",
          "text": [
            "/usr/local/lib/python3.7/dist-packages/statsmodels/tools/_testing.py:19: FutureWarning: pandas.util.testing is deprecated. Use the functions in the public API at pandas.testing instead.\n",
            "  import pandas.util.testing as tm\n"
          ],
          "name": "stderr"
        }
      ]
    },
    {
      "cell_type": "code",
      "metadata": {
        "colab": {
          "base_uri": "https://localhost:8080/"
        },
        "id": "njr97ths7d15",
        "outputId": "e560377f-4341-42c0-bc6b-7881227f990a"
      },
      "source": [
        "X_train = sm.add_constant(X_train, prepend=True)\n",
        "model_new = sm.OLS(endog=y_train, exog=X_train,)\n",
        "model_new = model_new.fit()\n",
        "print(model_new.summary())"
      ],
      "execution_count": null,
      "outputs": [
        {
          "output_type": "stream",
          "text": [
            "                            OLS Regression Results                            \n",
            "==============================================================================\n",
            "Dep. Variable:                Average   R-squared:                       0.944\n",
            "Model:                            OLS   Adj. R-squared:                  0.942\n",
            "Method:                 Least Squares   F-statistic:                     441.7\n",
            "Date:                Sun, 15 Aug 2021   Prob (F-statistic):          5.95e-219\n",
            "Time:                        14:50:34   Log-Likelihood:                -981.47\n",
            "No. Observations:                 380   AIC:                             1993.\n",
            "Df Residuals:                     365   BIC:                             2052.\n",
            "Df Model:                          14                                         \n",
            "Covariance Type:            nonrobust                                         \n",
            "============================================================================================\n",
            "                               coef    std err          t      P>|t|      [0.025      0.975]\n",
            "--------------------------------------------------------------------------------------------\n",
            "const                       -1.7598      1.537     -1.145      0.253      -4.782       1.262\n",
            "Kolkata_Average_Price        0.0874      0.021      4.209      0.000       0.047       0.128\n",
            "Kolkata_Ref_Price            0.1340      0.022      6.083      0.000       0.091       0.177\n",
            "Bangalore_Average_Price      0.0260      0.024      1.089      0.277      -0.021       0.073\n",
            "Bangalore_Ref_Price          0.0169      0.023      0.728      0.467      -0.029       0.063\n",
            "Cochin_Average_Price         0.1117      0.024      4.727      0.000       0.065       0.158\n",
            "Cochin_Ref_Price             0.0893      0.023      3.816      0.000       0.043       0.135\n",
            "Darjeeling_Average_Price    -0.0080      0.028     -0.279      0.780      -0.064       0.048\n",
            "Darjeeling_Ref_Price         0.0763      0.027      2.876      0.004       0.024       0.129\n",
            "Ernakulam_Average_Price      0.0716      0.037      1.932      0.054      -0.001       0.145\n",
            "Ernakulam_Ref_Price          0.0822      0.054      1.517      0.130      -0.024       0.189\n",
            "Siliguri_Average_Price       0.1380      0.028      4.930      0.000       0.083       0.193\n",
            "Siliguri_Ref_Price           0.0480      0.065      0.740      0.460      -0.080       0.175\n",
            "Guwahati_Average_Price       0.0549      0.028      1.928      0.055      -0.001       0.111\n",
            "Guwahati_Ref_Price           0.0835      0.028      2.948      0.003       0.028       0.139\n",
            "==============================================================================\n",
            "Omnibus:                      343.086   Durbin-Watson:                   2.105\n",
            "Prob(Omnibus):                  0.000   Jarque-Bera (JB):            16409.130\n",
            "Skew:                           3.514   Prob(JB):                         0.00\n",
            "Kurtosis:                      34.416   Cond. No.                     3.58e+03\n",
            "==============================================================================\n",
            "\n",
            "Warnings:\n",
            "[1] Standard Errors assume that the covariance matrix of the errors is correctly specified.\n",
            "[2] The condition number is large, 3.58e+03. This might indicate that there are\n",
            "strong multicollinearity or other numerical problems.\n"
          ],
          "name": "stdout"
        }
      ]
    },
    {
      "cell_type": "markdown",
      "metadata": {
        "id": "P28TLq338V2z"
      },
      "source": [
        "The R squared value indicates that the model is capable of explain 94.4% of the variability. The P-value (5.95e-219) is very small so we can expect that the results of the model are better that the ones obtained by a random act.\n",
        "\n",
        "According to the partial p-value, the following variables don´s add much to the model.\n",
        "\n",
        "* Siliguri_Ref_Price\n",
        "* Darjeeling_Average_Price\n",
        "* Bangalore_Ref_Price\n",
        "* Bangalore_Average_Price\n",
        "\n",
        "I will try get rid of these variables and perform the analysis again...\n",
        "\n",
        "https://www.cienciadedatos.net/documentos/py10-regresion-lineal-python.html"
      ]
    },
    {
      "cell_type": "code",
      "metadata": {
        "id": "0ztNJbLICz3C"
      },
      "source": [
        "X_train_new = X_train.drop(columns = ['Siliguri_Ref_Price', 'Darjeeling_Average_Price', 'Bangalore_Ref_Price', 'Bangalore_Average_Price'])\n",
        "X_valid_new  = X_valid.drop(columns = ['Siliguri_Ref_Price', 'Darjeeling_Average_Price', 'Bangalore_Ref_Price', 'Bangalore_Average_Price'])"
      ],
      "execution_count": null,
      "outputs": []
    },
    {
      "cell_type": "code",
      "metadata": {
        "colab": {
          "base_uri": "https://localhost:8080/"
        },
        "id": "8TgfE30ZDVPO",
        "outputId": "9108b816-3233-44db-bf7c-26de6416680e"
      },
      "source": [
        "model_new = sm.OLS(endog=y_train, exog=X_train_new,)\n",
        "model_new = model_new.fit()\n",
        "print(model_new.summary())"
      ],
      "execution_count": null,
      "outputs": [
        {
          "output_type": "stream",
          "text": [
            "                            OLS Regression Results                            \n",
            "==============================================================================\n",
            "Dep. Variable:                Average   R-squared:                       0.944\n",
            "Model:                            OLS   Adj. R-squared:                  0.942\n",
            "Method:                 Least Squares   F-statistic:                     619.8\n",
            "Date:                Sun, 15 Aug 2021   Prob (F-statistic):          8.20e-224\n",
            "Time:                        14:50:34   Log-Likelihood:                -983.01\n",
            "No. Observations:                 380   AIC:                             1988.\n",
            "Df Residuals:                     369   BIC:                             2031.\n",
            "Df Model:                          10                                         \n",
            "Covariance Type:            nonrobust                                         \n",
            "===========================================================================================\n",
            "                              coef    std err          t      P>|t|      [0.025      0.975]\n",
            "-------------------------------------------------------------------------------------------\n",
            "const                      -2.3331      1.490     -1.566      0.118      -5.262       0.596\n",
            "Kolkata_Average_Price       0.0999      0.017      5.917      0.000       0.067       0.133\n",
            "Kolkata_Ref_Price           0.1444      0.018      8.175      0.000       0.110       0.179\n",
            "Cochin_Average_Price        0.1266      0.021      6.105      0.000       0.086       0.167\n",
            "Cochin_Ref_Price            0.1000      0.022      4.644      0.000       0.058       0.142\n",
            "Darjeeling_Ref_Price        0.0907      0.020      4.481      0.000       0.051       0.130\n",
            "Ernakulam_Average_Price     0.0632      0.035      1.810      0.071      -0.005       0.132\n",
            "Ernakulam_Ref_Price         0.1124      0.036      3.150      0.002       0.042       0.183\n",
            "Siliguri_Average_Price      0.1385      0.025      5.541      0.000       0.089       0.188\n",
            "Guwahati_Average_Price      0.0539      0.028      1.910      0.057      -0.002       0.109\n",
            "Guwahati_Ref_Price          0.0829      0.028      2.980      0.003       0.028       0.138\n",
            "==============================================================================\n",
            "Omnibus:                      322.401   Durbin-Watson:                   2.113\n",
            "Prob(Omnibus):                  0.000   Jarque-Bera (JB):            13375.910\n",
            "Skew:                           3.227   Prob(JB):                         0.00\n",
            "Kurtosis:                      31.340   Cond. No.                     2.86e+03\n",
            "==============================================================================\n",
            "\n",
            "Warnings:\n",
            "[1] Standard Errors assume that the covariance matrix of the errors is correctly specified.\n",
            "[2] The condition number is large, 2.86e+03. This might indicate that there are\n",
            "strong multicollinearity or other numerical problems.\n"
          ],
          "name": "stdout"
        }
      ]
    },
    {
      "cell_type": "markdown",
      "metadata": {
        "id": "-sO6qYp1EDZc"
      },
      "source": [
        "The model did´t got better with this changes. For the results submission i will still use the LinearRegression model, but now i will make some graphs to analize the residuals"
      ]
    },
    {
      "cell_type": "markdown",
      "metadata": {
        "id": "ekFI_xGiCnsV"
      },
      "source": [
        "### Residual Diagnosis"
      ]
    },
    {
      "cell_type": "code",
      "metadata": {
        "colab": {
          "base_uri": "https://localhost:8080/",
          "height": 867
        },
        "id": "iv-XDvpREZxG",
        "outputId": "b85ba9a3-d680-4960-97f9-9ac5de7bb9da"
      },
      "source": [
        "y_valid_graph = y_valid\n",
        "prediction = final_model.predict(X_valid)\n",
        "residual   = prediction - y_valid_graph\n",
        "\n",
        "fig, axes = plt.subplots(nrows=3, ncols=2, figsize=(15, 12))\n",
        "\n",
        "axes[0, 0].scatter(y_valid, preds, edgecolors=(0, 0, 0), alpha = 0.4)\n",
        "axes[0, 0].plot([y_valid.min(), y_valid.max()], [y_valid.min(), y_valid.max()],\n",
        "                'k--', color = 'black', lw=2)\n",
        "axes[0, 0].set_title('Predicted vs real values', fontsize = 10, fontweight = \"bold\")\n",
        "axes[0, 0].set_xlabel('Real')\n",
        "axes[0, 0].set_ylabel('Prediction')\n",
        "axes[0, 0].tick_params(labelsize = 7)\n",
        "\n",
        "axes[0, 1].scatter(list(range(len(y_valid))), residual,\n",
        "                   edgecolors=(0, 0, 0), alpha = 0.4)\n",
        "axes[0, 1].axhline(y = 0, linestyle = '--', color = 'black', lw=2)\n",
        "axes[0, 1].set_title('Model residuals', fontsize = 10, fontweight = \"bold\")\n",
        "axes[0, 1].set_xlabel('id')\n",
        "axes[0, 1].set_ylabel('Residual')\n",
        "axes[0, 1].tick_params(labelsize = 7)\n",
        "\n",
        "sns.histplot(\n",
        "    data    = residual,\n",
        "    stat    = \"density\",\n",
        "    kde     = True,\n",
        "    line_kws= {'linewidth': 1},\n",
        "    color   = \"firebrick\",\n",
        "    alpha   = 0.3,\n",
        "    ax      = axes[1, 0]\n",
        ")\n",
        "\n",
        "axes[1, 0].set_title('Residual distribution', fontsize = 10,\n",
        "                     fontweight = \"bold\")\n",
        "axes[1, 0].set_xlabel(\"Residual\")\n",
        "axes[1, 0].tick_params(labelsize = 7)\n",
        "\n",
        "sm.qqplot(\n",
        "    residual,\n",
        "    fit   = True,\n",
        "    line  = 'q',\n",
        "    ax    = axes[1, 1], \n",
        "    color = 'firebrick',\n",
        "    alpha = 0.4,\n",
        "    lw    = 2\n",
        ")\n",
        "axes[1, 1].set_title('Q-Q residual', fontsize = 10, fontweight = \"bold\")\n",
        "axes[1, 1].tick_params(labelsize = 7)\n",
        "\n",
        "axes[2, 0].scatter(prediction, residual,\n",
        "                   edgecolors=(0, 0, 0), alpha = 0.4)\n",
        "axes[2, 0].axhline(y = 0, linestyle = '--', color = 'black', lw=2)\n",
        "axes[2, 0].set_title('Model residual vs Prediction', fontsize = 10, fontweight = \"bold\")\n",
        "axes[2, 0].set_xlabel('Prediction')\n",
        "axes[2, 0].set_ylabel('Residual')\n",
        "axes[2, 0].tick_params(labelsize = 7)\n",
        "\n",
        "# Eliminate empty axes\n",
        "fig.delaxes(axes[2,1])\n",
        "\n",
        "fig.tight_layout()\n",
        "plt.subplots_adjust(top=0.9)\n",
        "fig.suptitle('Residual diagnosis', fontsize = 12, fontweight = \"bold\");\n"
      ],
      "execution_count": null,
      "outputs": [
        {
          "output_type": "display_data",
          "data": {
            "image/png": "[encoded data removed]",
            "text/plain": [
              "<Figure size 1080x864 with 5 Axes>"
            ]
          },
          "metadata": {
            "tags": [],
            "needs_background": "light"
          }
        }
      ]
    },
    {
      "cell_type": "markdown",
      "metadata": {
        "id": "BLS7tYoPYFhr"
      },
      "source": [
        "We can see that the model performs slightly worse in the range between 105 and 115. However, the results seems pretty good for a first try."
      ]
    }
  ]
}